{
 "cells": [
  {
   "cell_type": "markdown",
   "metadata": {
    "colab_type": "text",
    "deletable": false,
    "editable": false,
    "id": "Z7zvmrKedLgT",
    "nbgrader": {
     "cell_type": "markdown",
     "checksum": "05fd7464cf777ef07799d7acdee5c0cc",
     "grade": false,
     "grade_id": "intro",
     "locked": true,
     "schema_version": 3,
     "solution": false,
     "task": false
    }
   },
   "source": [
    "# Assignment 3: Book Recommenders II\n",
    "\n",
    "This notebook provides starter code and a template for formatting your work. While some basic instructions are included, please refer to the full instructions on MyCourses for details and guidance on how to approach each task. \n",
    "\n",
    "Note that each response cell is followed by one or more test cells. You can use these to help test your code. Note that failing a test does not necessarily mean that your code is wrong. Notably, some tasks ask you to print output to the screen. The test cell will check that your solution exactly matches mine. Solutions that are correct but have small formatting differences will fail, but would be awarded full marks during grading. It is also possible for your code to pass the test cells, even if there are some errors that will be detected during grading. **However, despite these limitations the test cell can provide important information to help you check the correctness of your solution**\n",
    "\n",
    "Please write your name in the cell below."
   ]
  },
  {
   "cell_type": "markdown",
   "metadata": {
    "deletable": false,
    "nbgrader": {
     "cell_type": "markdown",
     "checksum": "510b439ef06a1e29f792704e016782ed",
     "grade": true,
     "grade_id": "name",
     "locked": false,
     "points": 0,
     "schema_version": 3,
     "solution": true,
     "task": false
    }
   },
   "source": [
    "YOUR ANSWER HERE"
   ]
  },
  {
   "cell_type": "markdown",
   "metadata": {
    "deletable": false,
    "editable": false,
    "nbgrader": {
     "cell_type": "markdown",
     "checksum": "a3716769d74748afae875832c9de5e63",
     "grade": false,
     "grade_id": "load-library-instructions",
     "locked": true,
     "schema_version": 3,
     "solution": false,
     "task": false
    }
   },
   "source": [
    "### Load libraries\n",
    "\n",
    "You must run the following cell for the autograder test cells to work. If you restart the notebook you will need to run this cell again: "
   ]
  },
  {
   "cell_type": "code",
   "execution_count": 1,
   "metadata": {
    "deletable": false,
    "editable": false,
    "nbgrader": {
     "cell_type": "code",
     "checksum": "4d82e43fd79d074ebb67db1a82bb743b",
     "grade": false,
     "grade_id": "load-libraries",
     "locked": true,
     "schema_version": 3,
     "solution": false,
     "task": false
    }
   },
   "outputs": [],
   "source": [
    "try: from nose.tools import assert_equal\n",
    "except ImportError as e:\n",
    "    %pip install nose\n",
    "    from nose.tools import assert_equal\n",
    "\n",
    "try: from unittest import mock\n",
    "except ImportError as e:\n",
    "    %pip install unittest\n",
    "    from unittest import mock\n",
    "    from unittest.mock import patch\n",
    "\n",
    "try: import io\n",
    "except ImportError as e:\n",
    "    %pip install io\n",
    "    import io\n",
    "\n",
    "try: import sys\n",
    "except ImportError as e:\n",
    "    %pip install sys\n",
    "    import sys\n",
    "    \n",
    "try: import os\n",
    "except ImportError as e:\n",
    "    %pip install os\n",
    "    import os"
   ]
  },
  {
   "cell_type": "markdown",
   "metadata": {
    "deletable": false,
    "editable": false,
    "nbgrader": {
     "cell_type": "markdown",
     "checksum": "26dc6df5d5011f02fed2fff9fff0f50d",
     "grade": false,
     "grade_id": "task1-instructions",
     "locked": true,
     "schema_version": 3,
     "solution": false,
     "task": false
    }
   },
   "source": [
    "\n",
    "***\n",
    "# Part 1: File Management\n",
    "\n",
    "The first part of this assignment will be to create functions that enable the customer and book databases to read and written to file. I have provided the files `books.txt` and `ratings.txt`, which will enable you to work with a larger number of books and customer ratings. This is needed for the sophisitacted recommendation algorithm to produce reasonable results. You will need to download these files from MyCourses and store them in the same directory as this notebook file. \n",
    "\n",
    "We will write a total of three functions in this part. The first two will read in the data files and initialize data structures for handling our book and customer \"databases\". The third will write out the ratings data back to the file at the end of the session so that new ratings are added. *Note you should keep a backup of the original ratings file close at hand!* You do not need to write out the book file as we will be working with a fixed set of books. *(Extending our code to handle the ability to add books would be a nice extension if you are looking for a challenge, but it's non-trivial.)* \n",
    "\n",
    "\n",
    "## Task 1: Write `readBooks()`\n",
    "First, you will write a function `readBooks()` that reads the file books.txt and initialize the books database as a dictionary.\n",
    "\n",
    "Recall from the last assignment that we'll use a dictionary, using the ISBN number as the key, and making the value a tuple in the form `(YEAR, TITLE, AUTHOR, INDEX)`. The ISBN, publication year, book title, and author are all in `books.txt` with one line per book. Index should simply be the line number, counting from 0. That is,\n",
    "\n",
    "    0 The Hitchhiker's Guide To The Galaxy\n",
    "    1 Watership Down\n",
    "    ...\n",
    "    54 The Chrysalids\n",
    "    \n",
    "As the ratings scores are in the same order, keeping an index will make it a little easier to look up a particular book's rating in the customer data. *Note that there are other ways that this dictionary could be structured that would lead to an equally viable final solution. However, it is often the case that multiple programmers will work together on a project and will need to agree on how they will organize their data structures. As such, it is not entirely unrealistic that I am imposing a particular design.*\n",
    "\n",
    "### Pseudocode\n",
    "\n",
    "* Initialize a dictionary to hold our books database\n",
    "* Open the file specified by the input parameter `filename`\n",
    "* Loop over each line in the file\n",
    "    * Split each line into each the individual components\n",
    "    * Add each component (plus a line index) to the dictionary as described above\n",
    "* return the books database\n",
    "\n",
    "*Many students ignore the input parameter and just hardcode the filename into their function definition. This works because we only ever work with one dataset but for full marks your solution to this task must use a filename provided as an input parameter*"
   ]
  },
  {
   "cell_type": "code",
   "execution_count": null,
   "metadata": {
    "deletable": false,
    "nbgrader": {
     "cell_type": "code",
     "checksum": "57a19ec6530b17bd5a1d8317ac071b8a",
     "grade": false,
     "grade_id": "task1-answer",
     "locked": false,
     "schema_version": 3,
     "solution": true,
     "task": false
    }
   },
   "outputs": [],
   "source": [
    "def readBooks(filename):\n",
    "    # YOUR CODE HERE"
   ]
  },
  {
   "cell_type": "code",
   "execution_count": null,
   "metadata": {
    "deletable": false,
    "editable": false,
    "nbgrader": {
     "cell_type": "code",
     "checksum": "a44f535150d4da9cc5fd5206da7125cb",
     "grade": true,
     "grade_id": "task1-autograder1",
     "locked": true,
     "points": 2,
     "schema_version": 3,
     "solution": false,
     "task": false
    }
   },
   "outputs": [],
   "source": [
    "# Test your code -- Run this cell to check readBooks works with books.txt\n",
    "sys._jupyter_stdout = sys.stdout\n",
    "sys.stdout = open(os.devnull, 'w')    \n",
    "try: assert_equal(readBooks(\"books.txt\"), {'0517693119': ('1989', \"The Hitchhiker's Guide To The Galaxy\", 'Douglas Adams', 0), '0025002600': ('1978', 'Watership Down', 'Richard Adams', 1), '0937247065': ('1988', 'The Five People You Meet in Heaven', 'Mitch Albom', 2), '8809744454': ('2009', 'Speak', 'Laurie Halse Anderson', 3), '0929631048': ('1989', 'I Know Why the Caged Bird Sings', 'Maya Angelou', 4), '1595141712': ('2010', 'Thirteen Reasons Why', 'Jay Asher', 5), '0553382570': ('1964', 'Foundation Series', 'Isaac Asimov', 6), '0375890291': ('2002', 'The Sisterhood of the Travelling Pants', 'Ann Brashares', 7), '0731814909': ('2010', 'A Great and Terrible Beauty', 'Libba Bray', 8), '8495618818': ('2004', 'The Da Vinci Code', 'Dan Brown', 9), '0230037518': ('2008', 'The Princess Diaries', 'Meg Cabot', 10), '3641082505': ('2012', \"Ender's Game\", 'Orson Scott Card', 11), '0425116840': ('1989', 'The Hunt for Red October', 'Tom Clancy', 12), '0545229936': ('2009', 'The Hunger Games', 'Suzanne Collins', 13), '0743273565': ('1925', 'The Great Gatsby', 'F. Scott Fitzgerald', 14), '0142411736': ('2004', \"Ranger's Apprentice Series\", 'John Flanagan', 15), '0606338039': ('2005', 'Inkheart', 'Cornelia Funke', 16), '0441007465': ('2000', 'Neuromancer', 'William Gibson', 17), '0399501487': ('1963', 'Lord of the Flies', 'William Golding', 18), '0345439740': ('1957', 'The Princess Bride', 'William Goldman', 19), '1863330550': ('1992', 'Dinotopia: A Land Apart from Time', 'James Gurney', 20), '1894448200': ('2000', 'Far North', 'Will Hobbs', 21), '0425190374': ('2003', 'Practical Magic', 'Alice Hoffman', 22), '0060850523': ('1968', 'Brave New World', 'Aldous Huxley', 23), '0143176763': ('2010', 'The Summer Tree', 'Guy Gavriel Kay', 24), '0871295377': ('1969', 'Flowers For Algernon', 'Daniel Keyes', 25), '0618439102': ('2004', 'Owl in Love', 'Patrice Kindl', 26), '1569319006': ('2003', 'Naruto', 'Masashi Kishimoto', 27), '1591164418': ('2004', 'Bleach (graphic novel)', 'Tite Kubo', 28), '0230738034': ('2008', 'Kiss the Dust', 'Elizabeth Laird', 29), '0871299208': ('1970', 'To Kill a Mockingbird', 'Harper Lee', 30), '0064404990': ('1950', 'The Lion the Witch and the Wardrobe', 'C S Lewis', 31), '0312331754': ('2004', 'The Bourne Series', 'Robert Ludlum', 32), '0547416113': ('2002', 'Life of Pi', 'Yann Martel', 33), '0440240167': ('2010', 'Breathless', 'Lurlene McDaniel', 34), '1905654391': ('2008', 'Twilight Series', 'Stephenie Meyer', 35), '0061975133': ('2009', 'Sabriel', 'Garth Nix', 36), '1411469380': ('1982', 'Nineteen Eighty-Four (1984)', 'George Orwell', 37), '0375890369': ('2003', 'Eragon', 'Christopher Paolini', 38), '0330338730': ('1994', 'Hatchet', 'Gary Paulsen', 39), '1416549178': ('2007', \"My Sister's Keeper\", 'Jodi Picoult', 40), '0375846724': ('1997', 'The Golden Compass', 'Philip Pullman', 41), '0590353403': ('1998', 'Harry Potter Series', 'J.K. Rowling', 42), '8434878607': ('2001', 'Holes', 'Louis Sachar', 43), '1156393361': ('1968', 'Shonen Jump Series', 'Shueisha', 44), '0142300942': ('1988', 'The Shadow Club', 'Neil Shusterman', 45), '1443102067': ('1993', 'Bone Series', 'Jeff Smith', 46), '0394747232': ('1986', \"Maus: A Survivor's Tale\", 'Art Spiegelman', 47), '0143038095': ('1992', 'The Joy Luck Club', 'Amy Tan', 48), '0261102958': ('1992', 'The Lord of the Rings', 'J R R Tolkien', 49), '0345339683': ('1982', 'The Hobbit', 'J R R Tolkien', 50), '0143181538': ('2007', 'Shattered', 'Eric Walters', 51), '1603034013': ('1898', 'The War Of The Worlds', 'H G Wells', 52), '0547538648': ('2015', 'Dealing with Dragons', 'Patricia C. Wrede', 53), '0141038462': ('1964', 'The Chrysalids', 'John Wyndham', 54)})\n",
    "finally: sys.stdout = sys._jupyter_stdout \n",
    "print(\"Test passed\")"
   ]
  },
  {
   "cell_type": "code",
   "execution_count": null,
   "metadata": {
    "deletable": false,
    "editable": false,
    "nbgrader": {
     "cell_type": "code",
     "checksum": "bcc298f4d5f7e108026590c802f80abc",
     "grade": true,
     "grade_id": "task1-autograder2",
     "locked": true,
     "points": 1,
     "schema_version": 3,
     "solution": false,
     "task": false
    }
   },
   "outputs": [],
   "source": [
    "# Test your code -- Run this cell to check that it works with a file other than books.txt\n",
    "sys._jupyter_stdout = sys.stdout\n",
    "sys.stdout = open(os.devnull, 'w')    \n",
    "with open('mtf.txt', 'w') as fileObj: fileObj.write(\"01, 1900, abc, def\\n02, 1901, ghi, klm\")\n",
    "try: assert_equal(readBooks(\"mtf.txt\"), {'01': ('1900', 'abc', 'def', 0), '02': ('1901', 'ghi', 'klm', 1)})\n",
    "finally: sys.stdout = sys._jupyter_stdout \n",
    "if os.path.exists(\"mtf.txt\"): os.remove(\"mtf.txt\")\n",
    "print(\"Test passed\")"
   ]
  },
  {
   "cell_type": "markdown",
   "metadata": {
    "deletable": false,
    "editable": false,
    "nbgrader": {
     "cell_type": "markdown",
     "checksum": "9188fc3768cb464e9e3346f65c1d1849",
     "grade": false,
     "grade_id": "task1t-instructions",
     "locked": true,
     "schema_version": 3,
     "solution": false,
     "task": false
    }
   },
   "source": [
    "### Test `readBooks()`\n",
    "\n",
    "If you run the cell above with your implementation of `readBooks()` nothing should happen because the cell above should only contain a definition for `readBooks()`, it shouldn't call it. Just like in the last assignment, we will separate the tasks of defining our functions and testing them. This will enable running the cells with the function definitions, without calling the function, which will help both you in completing the assignment and me in grading it. \n",
    "\n",
    "Write a small function that tests your code by calling `readBooks()` and then printing out each key, value pair in the returned dictionary. Check that this is consistent with `books.txt` and your expectations. Once you are satisfied it does, you can comment out the line calling `testReadBooks()` so that this code doesn't run every time you run the entire file. As this code is just to test that `readBooks()` is working properly, you do not need to worry about making the output pretty (i.e., you can just let Python handle printing the tuple). The first four lines of your output should look like this: \n",
    "\n",
    "    0517693119 --> ('1989', \"The Hitchhiker's Guide To The Galaxy\", 'Douglas Adams', 0)\n",
    "    0025002600 --> ('1978', 'Watership Down', 'Richard Adams', 1)\n",
    "    0937247065 --> ('1988', 'The Five People You Meet in Heaven', 'Mitch Albom', 2)\n",
    "    8809744454 --> ('2009', 'Speak', 'Laurie Halse Anderson', 3)\n",
    "    \n",
    "And the last two should look like this: \n",
    "\n",
    "    0547538648 --> ('2015', 'Dealing with Dragons', 'Patricia C. Wrede', 53)\n",
    "    0141038462 --> ('1964', 'The Chrysalids', 'John Wyndham', 54)"
   ]
  },
  {
   "cell_type": "code",
   "execution_count": null,
   "metadata": {
    "deletable": false,
    "nbgrader": {
     "cell_type": "code",
     "checksum": "caba89cfc13e76a770713a4ac16ac9e7",
     "grade": false,
     "grade_id": "task1t-answer",
     "locked": false,
     "schema_version": 3,
     "solution": true,
     "task": false
    }
   },
   "outputs": [],
   "source": [
    "def testReadBooks(): \n",
    "    # YOUR CODE HERE\n",
    "\n",
    "testReadBooks()     # Comment out this line when you are done testing "
   ]
  },
  {
   "cell_type": "code",
   "execution_count": null,
   "metadata": {
    "deletable": false,
    "editable": false,
    "nbgrader": {
     "cell_type": "code",
     "checksum": "87d47adfef629ef44192bd7d64cf1841",
     "grade": true,
     "grade_id": "task1t-autograder",
     "locked": true,
     "points": 1,
     "schema_version": 3,
     "solution": false,
     "task": false
    }
   },
   "outputs": [],
   "source": [
    "# Test your code\n",
    "sys._jupyter_stdout = sys.stdout\n",
    "sys.stdout = open(os.devnull, 'w')    \n",
    "\n",
    "old = readBooks\n",
    "del readBooks\n",
    "\n",
    "try: testReadBooks()\n",
    "except NameError: pass\n",
    "else: \n",
    "    raise AssertionError(\"testReadBooks() does not call readBooks()\")\n",
    "finally:\n",
    "    sys.stdout = sys._jupyter_stdout\n",
    "    readBooks = old\n",
    "    del old\n",
    "\n",
    "print(\"Test passed\")"
   ]
  },
  {
   "cell_type": "markdown",
   "metadata": {
    "deletable": false,
    "editable": false,
    "nbgrader": {
     "cell_type": "markdown",
     "checksum": "3b68cf2e430676e4a1fdc579f53244a7",
     "grade": false,
     "grade_id": "task1b-instructions",
     "locked": true,
     "schema_version": 3,
     "solution": false,
     "task": false
    }
   },
   "source": [
    "### Write `printTen()`\n",
    "\n",
    "Write a second test function `printTen()`. This function should likewise call `readBooks()` to initialize a dictionary database. It should then print 10 books titles at random. Your resulting output might look something like this (though the exact books will be selected at random):\n",
    "\n",
    "    The Hunger Games by Suzanne Collins\n",
    "    Far North by Will Hobbs\n",
    "    Sabriel by Garth Nix\n",
    "    The Bourne Series by Robert Ludlum\n",
    "    Holes by Louis Sachar\n",
    "    The Summer Tree by Guy Gavriel Kay\n",
    "    Neuromancer by William Gibson\n",
    "    Flowers For Algernon by Daniel Keyes\n",
    "    The Sisterhood of the Travelling Pants by Ann Brashares\n",
    "    Kiss the Dust by Elizabeth Laird\n",
    "\n",
    "*Hint: You will need to use the random module which I've already imported in the skeleton code below. random has a method sample which should come in handy. random.sample(range(0,100), 10) returns 10 random numbers between 0 and 99 inclusive.*"
   ]
  },
  {
   "cell_type": "code",
   "execution_count": null,
   "metadata": {
    "deletable": false,
    "nbgrader": {
     "cell_type": "code",
     "checksum": "01e0a78e28724aa63f02a40e647d1f99",
     "grade": false,
     "grade_id": "task1b-answer",
     "locked": false,
     "schema_version": 3,
     "solution": true,
     "task": false
    }
   },
   "outputs": [],
   "source": [
    "import random\n",
    "def printTen():\n",
    "    # YOUR CODE HERE\n",
    "\n",
    "printTen() #Comment out this line when you are done testing "
   ]
  },
  {
   "cell_type": "code",
   "execution_count": null,
   "metadata": {
    "deletable": false,
    "editable": false,
    "nbgrader": {
     "cell_type": "code",
     "checksum": "eab2ea834d3663232f81fa73666fa29c",
     "grade": true,
     "grade_id": "task1b-autograder1",
     "locked": true,
     "points": 1,
     "schema_version": 3,
     "solution": false,
     "task": false
    }
   },
   "outputs": [],
   "source": [
    "# Test your code 1\n",
    "sys._jupyter_stdout = sys.stdout\n",
    "sys.stdout = open(os.devnull, 'w')    \n",
    "\n",
    "old = random.sample\n",
    "del random.sample\n",
    "\n",
    "try: printTen()\n",
    "except AttributeError: pass\n",
    "else: \n",
    "    raise AssertionError(\"printTen() does not call random.sample()\")\n",
    "finally:\n",
    "    sys.stdout = sys._jupyter_stdout\n",
    "    random.sample = old\n",
    "    del old\n",
    "\n",
    "print(\"Test passed\")"
   ]
  },
  {
   "cell_type": "code",
   "execution_count": null,
   "metadata": {
    "deletable": false,
    "editable": false,
    "nbgrader": {
     "cell_type": "code",
     "checksum": "281bc50fbb347cf5f97d110e01d7c430",
     "grade": true,
     "grade_id": "task1b-autograder2",
     "locked": true,
     "points": 1,
     "schema_version": 3,
     "solution": false,
     "task": false
    }
   },
   "outputs": [],
   "source": [
    "# Test your code 2\n",
    "sys._jupyter_stdout = sys.stdout\n",
    "sys.stdout = open(os.devnull, 'w')    \n",
    "\n",
    "old = readBooks\n",
    "del readBooks\n",
    "\n",
    "try: printTen()\n",
    "except NameError: pass\n",
    "else: \n",
    "    raise AssertionError(\"printTen() does not call readBooks()\")\n",
    "finally:\n",
    "    sys.stdout = sys._jupyter_stdout\n",
    "    readBooks = old\n",
    "    del old\n",
    "\n",
    "print(\"Test passed\")"
   ]
  },
  {
   "cell_type": "markdown",
   "metadata": {
    "deletable": false,
    "editable": false,
    "nbgrader": {
     "cell_type": "markdown",
     "checksum": "97d0e4716be9666bff0b4786ecd5b97b",
     "grade": false,
     "grade_id": "task2-instructions",
     "locked": true,
     "schema_version": 3,
     "solution": false,
     "task": false
    }
   },
   "source": [
    "## Task 2: Write `readRatings()`\n",
    "\n",
    "Now, you will write a function `readRatings()` that reads the file ratings.txt and initializes the customer database. As for books, we will also use a dictionary to store our customer data, but it will be a bit simpler. \n",
    "\n",
    "The customer's ID will be the dictionary key. All the customer names in `ratings.txt` are unique so we know that when we initially load the database from file all the customers will have a unique ID. Moreover, when we wrote `openAccount()` in the last assignment we also made sure to check that the user ID was unique before accepting it (and adding the person to the database), which will ensure customer IDs remain unique as new customers are added to the database. \n",
    "\n",
    "The dictionary value will be a list of book ratings. Note that when we read in the data from file, we will initially have this data as a string, you will need to convert the string to a list and then each item in the list to an integer. This is a bit of work now, but will make many later tasks easier (since we will often want to compute things from our ratings&mdash;as we already saw in the previous assignment when writing `getAverageRatings()`)\n",
    "\n",
    "### Pseudocode\n",
    "\n",
    "* Initialize a dictionary to hold our customers database\n",
    "* Open the file specified by the input parameter `filename` for reading\n",
    "* Loop over each line in the file\n",
    "    * Split each line into customer id and a string of ratings\n",
    "    * Split the string of ratings into a list of strings\n",
    "    * Convert the list of strings to a list of numbers \n",
    "        * Break the string into a list of string ratings\n",
    "        * Loop over each element of this list and replace its string value with an integer equivalent\n",
    "    * Add the customer id and the list of ratings to the dictionary as a key, value pair\n",
    "* return the customer database\n"
   ]
  },
  {
   "cell_type": "code",
   "execution_count": null,
   "metadata": {
    "deletable": false,
    "nbgrader": {
     "cell_type": "code",
     "checksum": "b350110b6611115a9657c1a97f0cadc2",
     "grade": false,
     "grade_id": "task2-answer",
     "locked": false,
     "schema_version": 3,
     "solution": true,
     "task": false
    }
   },
   "outputs": [],
   "source": [
    "def readRatings(filename):\n",
    "    customerDB = {}\n",
    "    # YOUR CODE HERE"
   ]
  },
  {
   "cell_type": "code",
   "execution_count": null,
   "metadata": {
    "deletable": false,
    "editable": false,
    "nbgrader": {
     "cell_type": "code",
     "checksum": "0b3e0c86b01f6dd6b2522eadf11e5b1d",
     "grade": true,
     "grade_id": "task2-autograder1",
     "locked": true,
     "points": 2,
     "schema_version": 3,
     "solution": false,
     "task": false
    }
   },
   "outputs": [],
   "source": [
    "# Test your code -- check readRatings works with ratings.txt\n",
    "sys._jupyter_stdout = sys.stdout\n",
    "sys.stdout = open(os.devnull, 'w')    \n",
    "try: assert_equal(readRatings(\"ratings.txt\"), {'Ben': [5, 0, 0, 0, 0, 0, 0, 1, 0, 1, -3, 5, 0, 0, 0, 5, 5, 0, 0, 0, 0, 5, 0, 0, 0, 0, 0, 0, 0, 0, 1, 3, 0, 1, 0, -5, 0, 0, 5, 5, 0, 5, 5, 5, 0, 5, 5, 0, 0, 0, 5, 5, 5, 5, -5], 'Moose': [5, 5, 0, 0, 0, 0, 3, 0, 0, 1, 0, 5, 3, 0, 5, 0, 3, 3, 5, 0, 0, 0, 0, 0, 5, 0, 0, 0, 0, 0, 3, 5, 0, 0, 0, 0, 0, 5, -3, 0, 0, 0, 5, 0, 0, 0, 0, 0, 0, 5, 5, 0, 3, 0, 0], 'Reuven': [5, -5, 0, 0, 0, 0, -3, -5, 0, 1, -5, 5, 0, 1, 0, 1, -3, 1, -5, 0, 0, 0, 0, 0, 0, 3, 0, 0, 0, 0, -5, 1, 0, 1, 0, -5, 0, 3, -3, 3, 0, 1, 5, 1, 0, 0, 0, 0, 0, 1, 3, 1, 5, 1, 3], 'Cust1': [3, 3, 5, 0, 0, 0, 3, 0, 0, 3, 0, 3, 0, 0, 0, 0, 0, 3, 0, 5, 0, 0, 0, 1, 3, 1, 0, 0, 0, 0, 0, 3, 0, 3, 0, 0, 0, 1, 3, 0, 0, 3, 3, 0, 0, 0, 5, 0, 0, 3, 1, 0, 0, 0, 0], 'Cust2': [3, 0, 0, 0, 0, 0, 0, 0, 0, 0, 0, 0, 0, 0, 0, 0, 0, 0, 1, 0, 0, 0, 0, 0, 0, 0, 0, 0, 0, 0, 0, 5, 0, 0, 0, 0, 0, 3, 1, 0, 0, 0, 3, 0, 0, 0, 3, 0, 3, 3, 5, 0, 3, 0, 3], 'Francois': [3, 3, 5, 0, 0, 0, 3, 0, 0, 3, 0, 3, 0, 0, 0, 0, 0, 3, 0, 5, 0, 0, 0, 1, 3, 1, 0, 0, 0, 0, 0, 3, 0, 3, 0, 0, 0, 1, 3, 0, 0, 3, 3, 0, 0, 0, 5, 0, 0, 3, 1, 0, 0, 0, 0], 'Jim C': [5, 3, 0, 0, 0, 0, 3, 0, 0, 0, 0, 0, 0, 0, 1, 0, 0, 0, 0, 0, 0, 0, 0, 3, 0, 3, 0, 0, 0, 0, 0, 5, 0, 5, 0, 0, 0, 0, 0, 0, 0, 0, 0, 0, 0, 0, 0, 0, 3, 3, 3, 0, 0, 0, 0], 'Iren': [0, 0, 0, 0, 0, 0, 0, 0, 0, 0, 0, 0, 0, 0, 0, 0, 1, 0, 0, 0, 0, 0, 0, 0, 0, 0, 0, 5, 0, 0, 0, 1, 0, 0, 0, 1, 0, 0, 5, 0, 0, 0, 5, 3, 5, 0, 0, 0, 0, 5, 3, 0, 3, 0, -5], 'Cust3': [0, 0, 0, -3, 0, 0, 0, 0, 0, 0, 0, 0, 0, 0, 0, 0, 3, 0, 0, 0, 0, 0, 0, 0, 0, 0, 0, 5, 5, 0, 0, 0, 0, 0, 0, 0, 0, 0, 1, 1, 0, -3, 5, 3, 0, 0, 1, 0, 0, 0, 1, 0, 0, 0, 0], 'Cust4': [0, 0, 0, 0, 0, 0, 0, 5, 0, 0, 0, 0, 0, 0, 0, 0, 0, 0, 0, 0, 0, 0, 0, 0, 0, 0, 0, 0, 0, 0, 0, 0, 0, 0, 0, 5, 0, 0, -5, 0, 0, -5, 5, 0, 0, 0, 0, 0, 0, 0, -3, 0, 0, 0, -3], 'Cust5': [0, -3, 0, 0, 0, 0, 0, 0, 0, 0, 0, 0, 0, 0, 0, 0, 0, 0, 0, 0, 0, 0, 0, 0, 0, 3, 0, 0, 0, 0, 5, 3, 0, 0, 0, 0, 0, 5, 0, 3, 0, 3, 5, 3, 0, 0, 0, 3, 0, 5, 5, 0, 0, 5, 0], 'Cust6': [1, 1, 3, 3, -3, 3, 3, 5, 5, 5, 5, 1, 3, 1, 1, 0, 5, 0, 3, 0, 0, 0, 0, 0, 0, 0, 0, 0, 0, 0, 0, 0, 0, 0, 0, 3, 3, 0, 3, 0, 3, 5, 5, 5, 0, -3, 0, 0, 0, 0, 0, 0, 3, 1, 1], 'Cust7': [0, 0, 0, 0, 0, 0, 0, 0, 0, 0, 0, 5, 0, 0, 0, 0, 0, 0, 0, 0, 0, 0, 0, 0, 0, 0, 0, 1, -3, 0, 0, 5, 5, 0, 0, 5, 0, 0, 3, 0, 0, 0, 5, 0, 0, 0, 0, 0, 0, 0, 0, 0, 5, 0, 5], 'Cust8': [3, 0, 0, 5, 0, 0, 0, 5, 0, 5, 3, 0, 0, 0, 0, 0, 3, 0, 5, 5, 0, 0, 0, 0, 0, 0, 0, 0, 5, 0, 5, 5, 3, 0, 0, 5, 0, 0, 5, 5, 5, 3, 5, 5, 0, 0, 5, 0, 0, 5, 5, 0, 5, 0, 5], 'Cust9': [5, 0, 0, 0, 0, 0, 3, 0, 0, 0, 0, 3, 0, 0, 0, 0, 0, 0, 1, 0, 0, 0, 0, 0, 0, 5, 0, 0, 0, 0, 1, 0, 0, 0, 0, 0, 0, 0, 0, 0, 0, 0, 0, 0, 0, 0, 0, 0, 0, -3, 0, 0, 0, 0, 3], 'andrew': [3, 3, 1, 0, 3, 0, 3, 0, 0, -3, 0, 5, 3, 0, 1, 0, 0, 5, 3, 0, 0, 0, 0, 1, 0, 3, 0, 1, 0, 0, 3, 5, 3, 3, 0, 0, 0, 5, 0, 5, 0, 3, 3, 0, -3, 0, 0, 5, 1, 5, 3, 0, 3, 0, 0], 'ma': [0, 0, 0, 0, 5, 0, 0, 0, 0, 3, 0, 0, 0, 0, 0, 0, 0, 0, -3, 0, 0, 0, 0, -3, 0, 0, 0, 0, 0, 0, 0, 3, 0, 3, 0, 0, 0, -3, 0, 0, 0, 0, 3, 0, 0, 0, 0, 0, 0, -3, -3, 0, 0, 0, 0], 'matt c': [0, 3, 0, 0, 0, 0, 0, 0, 0, 5, 0, 5, 0, 0, -3, 5, 0, 0, 1, 0, 0, 3, 0, 0, 3, 0, 0, 0, 0, 0, 1, 3, 3, 0, 0, 0, 0, 0, 5, 0, 0, 0, 5, 3, 0, 3, 0, 0, 0, 5, 5, 3, 0, 0, 0], 'Ocelot': [5, 1, 0, 0, 0, 0, 0, 0, 0, 0, 0, 5, 0, 0, 3, 0, 0, 5, 3, 0, 0, 0, 0, 3, 0, 1, 1, 0, 0, 0, 3, 3, 0, 5, 0, -3, 0, 3, 0, 0, 0, 5, 3, 0, 0, 0, 0, 0, 0, 0, 3, 0, 1, 0, 0], 'Cust10': [5, 0, 0, 0, 1, 0, 0, 0, 0, -5, 0, 5, 0, 0, 0, 0, 0, 3, -3, 3, 0, 0, 0, 5, 0, 5, 0, 0, 0, 0, 3, 3, 0, 5, 0, 0, 0, 5, 0, 0, 0, 0, 3, 0, 0, 0, 0, 5, 0, 0, 0, 0, 0, 0, 0], 'crom': [0, 0, 3, 0, 0, 0, 0, 0, 0, -3, 0, 0, 0, 0, 5, 0, 0, 0, 5, 0, 0, 0, 0, 0, 0, 0, 0, 0, 0, 0, 5, 0, 0, 0, 0, 0, 0, 5, 0, 0, 0, 0, 0, 0, 0, 0, 0, 0, 0, 3, 3, 0, 0, 0, 0], 'joe': [3, 0, 0, 0, 0, 0, 0, 0, 0, 3, 0, 5, 0, 0, 5, 0, 1, 1, 3, 0, 1, 0, 3, 0, 0, 0, 0, 3, 3, 0, 5, 3, 1, 3, 0, 1, 0, 3, 1, 0, 0, 5, 3, 0, 5, 0, 1, 0, 0, 1, 5, 0, 0, 0, 0], 'Priscilla': [5, 0, 0, 0, 0, 0, 5, 0, 0, 0, 0, 3, 3, 0, 1, 0, 0, 0, 0, 0, 0, 0, 3, 5, 0, 0, 0, 0, 0, 0, 0, 1, 0, 3, 0, 0, 0, 5, 0, 0, 0, 0, 0, 0, 0, 0, 0, 0, 0, -3, 1, 0, 1, 0, -3], 'Harry Potter': [0, 0, 0, 0, 0, 0, 0, 0, 0, -5, 0, 1, 0, 0, 0, 0, 0, 0, 1, 0, 0, 0, 0, 0, 0, 0, 0, 1, 1, 0, 0, 0, 0, 0, 0, 0, 0, 3, 0, 0, 0, 0, 5, 0, 0, 0, 0, 0, 0, 3, 0, 0, 0, 0, 0], 'I. Ned': [0, 0, 0, 0, 0, 0, 0, 0, 0, 1, 0, 0, 0, 0, 0, 0, 0, 0, 3, 0, 0, 0, 0, -3, 0, 0, 0, 0, 0, 0, 1, 1, 0, 0, 0, -3, 0, 0, 3, 1, 0, 3, 1, 0, 0, 0, 0, 0, 3, 0, 0, 0, 0, 0, -3], 'ender': [5, 0, 0, 0, 0, 0, 5, 0, 0, 3, 0, 5, 0, 0, 0, 0, 0, 1, 0, 0, 0, 0, 0, 0, 0, 0, 0, 0, 0, 0, 0, 0, 3, 0, 0, 0, 0, 0, 0, 0, 0, 0, 0, 0, 0, 0, 0, 0, 0, 5, 3, 0, 5, 0, 3], 'Apollo': [0, 0, 5, 0, 0, 0, 0, 3, 0, 0, 1, 0, 0, 0, -5, 0, 0, 0, 0, 0, 0, 0, 0, 5, 0, 0, 0, 0, 0, 0, 3, -5, 0, 0, 0, 0, 0, 3, 0, 0, 0, 0, 3, 3, 0, 0, 0, 0, 3, 0, -3, 0, 0, 0, 1], 'Zax': [0, 3, 0, 0, 0, 0, 0, 0, 1, 0, 0, 0, 0, 0, 0, 0, 0, 0, 0, 5, 0, 0, 0, 0, 0, 0, 0, 0, 0, 0, 0, 5, 0, 0, 0, 0, 0, 0, 5, 0, 0, 0, 5, 0, 0, 0, 3, 0, 0, 5, 5, 0, 0, 0, 1], 'Jaluka': [0, 5, 0, 0, 0, 0, 0, 0, 0, 1, 0, 0, 0, 0, 0, 0, 0, 0, 0, 0, 0, 0, 0, 3, 0, 0, 0, 0, 0, 0, 5, 0, 0, 0, 0, 0, 0, 3, 0, 0, 0, 0, 0, 0, 0, 0, 0, 0, 5, 0, 0, 0, 0, 0, 0], 'Sanity': [0, 0, 0, 0, 0, 0, 0, 0, 0, 0, 0, 0, 0, 0, 0, 0, 0, 0, 5, 0, 0, 0, 0, 0, 0, 0, 0, 0, 5, 0, 0, 5, 0, 3, 0, 0, 0, 0, 0, 0, 0, 0, 5, 0, 0, 0, 0, 0, 0, 0, 0, 0, 0, 0, 0], 'Brix': [1, 0, 0, 0, 0, 0, 0, 0, 0, 0, 0, 0, 0, 0, 1, 0, 0, 0, 1, 0, 0, 0, 0, 3, 0, 0, 0, 0, 0, 0, -3, 0, 0, 0, 0, 0, 0, 3, 0, 0, 0, 0, 0, 0, 0, 0, 0, 0, 0, 0, 0, 0, 0, 0, 3], 'sage32': [0, 0, 0, 0, 0, 0, 0, -3, 0, 3, 1, 0, 0, 0, 0, 0, 0, 0, 3, 5, 0, 0, 0, 3, 0, 0, 0, 0, 0, 0, 3, 0, 0, 0, 0, -5, 0, 0, 0, 1, 0, 0, 5, 3, 3, 0, 0, 0, 1, 0, 0, 0, 0, 0, 5], 'clipper': [5, 0, 0, 0, 0, 0, 0, 1, 3, 0, 0, 0, 0, 0, 0, 0, 0, 0, -3, 0, 0, 0, 0, 0, 0, 0, 0, 0, 0, 0, 1, 5, 0, 3, 0, 0, 0, 0, 0, 0, 0, 5, 5, 0, 0, 0, 0, 0, 3, 5, 5, 0, 0, 0, 0], 'YJAM': [0, 0, 0, 0, 0, 0, 0, 0, 0, 0, 0, 0, 0, 0, 0, 0, 0, 0, 0, 0, 0, 0, 0, 0, 0, 0, 0, 0, 0, 0, 0, 1, 0, 0, 0, 3, 0, 0, 3, 0, 0, 0, 0, 3, 0, 0, 0, 0, 0, 5, 5, 0, 5, 0, 0], 'Martin': [1, -3, 0, 0, 0, 0, 0, 0, 0, 0, 0, 3, 3, 0, -3, 0, 0, 0, -3, 0, 0, 0, 0, 0, 0, 0, 0, 0, 0, 0, 0, 0, 0, 0, 0, 0, 0, -3, -3, 0, 0, 0, 5, 0, 0, 0, 0, 0, 1, 3, 5, 0, -3, 0, 0], 'Mike': [5, 0, 0, 0, 0, 0, 5, 0, 0, 1, 0, 5, 3, 0, 0, 0, 0, 3, 0, 0, 0, 0, 0, 3, 0, 5, 0, 0, 0, 0, 5, 5, 5, 3, 0, 0, 0, 3, 0, 0, 0, 5, 3, 0, 0, 0, 0, 5, 0, 5, 3, 0, 0, 0, 0], 'Strongbad': [5, 0, -3, 0, -3, 0, 0, -5, 0, 0, 0, 0, 0, 0, 0, 0, 0, 0, 0, 0, 0, 0, 0, -5, 0, 0, 0, 0, 0, 0, 0, 3, 0, 3, 0, 0, 0, -5, 0, 1, 0, 5, 5, 1, 0, 0, 0, 5, 0, 1, 1, 0, 0, 0, 3], 'Brian': [5, 0, 0, 0, 0, 0, 0, 0, 0, 3, 0, 0, 0, 0, 5, 0, 0, 0, 0, 5, 0, 0, 0, 5, 0, 3, 0, 0, 0, 0, 1, 0, 0, 0, 0, 1, 0, 5, 3, 5, 0, 0, 5, 3, 0, 0, 0, 0, 0, 3, 5, 0, 0, 0, 0], 'Douglas Anderson': [5, 0, 0, 0, 0, 0, 0, 0, 0, 3, 0, 0, 0, 0, 5, 0, 0, 0, 0, 5, 0, 0, 0, 5, 0, 3, 0, 0, 0, 0, 1, 0, 0, 0, 0, 1, 0, 5, 3, 5, 0, 0, 5, 3, 0, 0, 0, 0, 0, 3, 5, 0, 0, 0, 0], 'chrispeh': [0, 0, 0, 0, 0, 0, 0, 0, 0, 0, 0, 0, 0, 0, 0, 0, 0, 0, 0, 0, 0, 0, 0, 0, 0, 0, 0, 0, 0, 0, 3, 0, 0, -5, 0, 0, 0, 0, 0, 0, 0, 0, 0, 0, 0, 0, 0, 0, 0, 0, 0, 0, 0, 0, 0], 'Rudy A': [0, 0, 0, 0, 0, 0, 0, 0, 0, 0, 0, 0, 0, 0, 0, 0, 0, 0, 0, 0, 0, 0, 0, 0, 0, 0, 0, 0, 0, 0, 3, 0, 0, 1, 0, 0, 0, 0, 0, 5, 0, 0, 3, 0, 0, 0, 0, 0, 0, 0, 0, 0, 0, 0, 0], 'McLovin': [0, 0, 0, 0, 0, 0, 0, 0, 0, 3, 0, 0, 0, 0, 0, 0, 0, 0, 5, 0, 0, 0, 0, 0, 0, 0, 0, 0, 0, 0, -5, 3, 0, -5, 0, 0, 0, 0, 0, 0, 0, 0, -3, 0, 0, 0, 0, 0, 0, 3, 0, 0, 0, 0, 0], 'Mike Williams': [3, 0, 5, 0, 0, 0, 5, 0, 0, 5, 0, 5, 0, 5, 0, 0, 3, 0, 3, 0, 0, 0, 0, 0, 0, 0, 0, 0, 0, 0, 1, 1, 0, 5, 0, 3, 0, 0, 5, 5, 0, 5, 5, 3, 0, 0, 0, 0, 0, 1, -3, 0, 0, 0, 0], 'Dude': [0, 0, 0, 0, 0, 0, 0, 0, 0, 0, 0, 0, 0, 0, 0, 0, 3, 0, 0, 0, 0, 0, 0, 0, 0, 0, 0, 0, 0, 0, 3, 0, 0, 0, 0, 0, 0, 0, 0, 0, 0, 0, 3, 3, 0, 0, 5, 0, 0, 0, -3, 0, 0, 0, 0], 'Hideo': [0, 0, -3, 0, 0, 0, 0, 0, 0, 0, 0, 0, 0, 0, 0, 1, 0, 0, 0, 0, 0, 0, 0, 0, 0, 0, 0, 0, 0, 0, 1, 3, 0, -5, 0, 0, 0, 0, 5, 0, 0, 0, 5, 5, 0, 0, 0, 0, 0, 5, 5, 0, 0, 0, 0], 'Rudy Ann': [0, 0, 0, 0, 0, 0, 0, 0, 0, 0, 0, 0, 0, 0, 0, 0, 0, 0, 0, 0, 0, 0, 0, 0, 0, 0, 0, 0, 0, 0, -3, 0, 0, -5, 0, 0, 0, 0, 0, 1, 0, 0, 3, 1, 0, 0, 0, 0, 0, 0, 0, 0, 0, 0, 0], 'Don Wang': [0, 0, 0, 0, 0, 0, 0, 0, 0, 0, 0, 0, 0, 0, 0, 0, 0, 0, 0, 0, 0, 0, 0, 0, 0, 0, 0, 0, 0, 0, 1, 0, 0, 1, 0, 0, 0, 0, 3, 0, 0, 0, 3, 3, 0, 0, 0, 0, 0, 0, 3, 0, 0, 0, 0], 'Anna-Carol': [0, 0, 3, 0, 0, 0, 0, 1, 0, 0, 0, 0, 0, 0, 0, 0, 0, 0, 0, 0, 0, 0, 0, 0, 0, 0, 0, 0, 0, 0, 1, 3, 0, 0, 0, 5, 0, 0, 0, 3, 0, 0, 0, 3, 0, 0, 0, 0, 0, 0, 3, 0, 0, 0, 0], 'SubRia': [0, 0, 0, 0, 0, 0, 0, 0, 0, 5, 0, 0, 0, 0, 0, 0, 5, 0, 3, -5, 0, 0, 0, 0, 0, 0, 0, 0, 0, 0, 1, 3, 3, -3, 0, 0, 0, 0, 3, 3, 1, -3, 0, 0, 0, 0, 0, 0, 0, 3, 3, 0, 0, 0, 0], 'Ella': [0, 0, 0, 0, 0, 0, 0, 3, 0, 0, 3, 1, 0, 0, 0, 0, 3, 0, 0, 3, 0, 0, 0, 0, 0, 0, 0, 0, 0, 0, -5, 1, 0, -5, 0, 5, 0, 0, 1, 0, 0, 3, 0, 5, 0, 0, 0, 0, 0, 0, 0, 0, 0, 0, 0], 'Leslie': [5, 0, 0, 0, 0, 0, 0, 0, 0, 5, 0, 0, 0, 0, 0, 0, 0, 0, 0, 0, 0, 0, 0, 0, 0, 0, 0, 0, 0, 0, 5, 0, 5, -5, 0, 0, 0, 0, 5, 0, 0, 0, -5, 5, 0, 0, 0, 0, 0, 5, 5, 0, 0, 0, 0], 'Sam': [0, 3, 0, 0, 0, 1, 0, 0, 0, 3, 0, 0, 0, 0, 0, 0, 0, 0, 0, 0, 0, 0, 0, 0, 0, 0, 0, 0, 0, 0, 1, 0, 0, -3, 0, 0, 0, 0, 0, 0, 0, 0, 0, 0, 0, 0, 0, 0, 0, 0, 0, 1, 0, 0, 0], 'Cedric Jones': [0, 0, 0, 0, 0, 0, 0, 0, 0, 3, 0, 0, 5, 0, 0, 0, 0, 0, 5, 0, 0, 0, 0, 0, 0, 0, 0, 0, 0, 0, 1, 0, 5, -5, 0, 0, 0, 0, 0, 3, 0, 0, 0, 5, 0, 0, 0, 0, 0, 0, 0, 0, 5, 0, 0], 'McLean': [0, 0, 0, 0, 0, 0, 0, 0, 0, 5, 0, 0, 0, 0, 0, 0, 3, 0, 0, 0, 0, 0, 0, 5, 0, 0, 0, 0, 0, 0, 5, 0, 0, 3, 0, 0, 0, 5, 5, 0, 0, 0, 5, 5, 0, 0, 0, 0, 0, 0, 5, 0, 1, 0, 5], 'Shannon': [3, 0, 0, 0, 0, 0, 0, 0, 0, 5, 5, 0, 0, 0, 0, 0, 5, 0, 0, 5, 0, 0, 0, 0, 0, 0, 0, 5, 0, 0, 0, 5, 5, -5, 0, 5, 0, 0, 5, 0, 5, 5, 5, 5, 0, 0, 5, 0, 0, 5, 5, 0, 5, 0, 0], 'Joshua': [0, 0, 0, 0, 0, 0, 0, 1, 0, 0, -3, 0, 0, 0, 0, 0, 0, 0, 0, 0, 0, 0, 0, 0, 0, 0, 0, 0, 0, 0, 3, 0, 0, -5, 0, -5, 0, 0, 0, 0, 0, 0, 5, 0, 0, 0, 0, 0, 0, 0, 0, 0, 0, 0, 0], 'Jeremy': [0, 0, 0, 0, 0, 0, 0, 0, 0, 0, 3, 0, 0, 0, 0, 0, 0, 0, 0, 0, 0, 0, 0, 0, 0, 0, 0, 0, 0, 0, 0, 3, 0, -5, 0, 0, 0, 0, 0, 0, 0, 3, 0, 0, 0, 0, 0, 0, 0, 0, 0, 0, 0, 0, 0], 'Pablo Sanchez': [0, 0, 0, 0, 0, 0, 0, 0, 0, 0, 0, 0, 0, 0, 0, 0, 0, 0, 0, 0, 0, 0, 0, 0, 0, 0, 0, 0, 0, 0, 0, 0, 0, 3, 0, 0, 0, 0, 3, 0, 0, 0, 0, 1, 0, 0, 3, 0, 0, 0, 0, 0, 0, 0, 0], 'Scream': [0, 0, 0, 0, 0, 0, 0, 0, 0, 0, 0, 0, 0, 0, 0, 0, 0, 0, 0, 0, 0, 0, 0, 0, 0, 0, 0, 0, 0, 0, 0, 0, 0, -5, 0, -5, 0, 0, 0, 0, 0, 0, 3, 0, 0, 0, 0, 0, 0, 0, 0, 0, 0, 0, 0], 'ROFLOL': [5, 0, 0, 0, 0, 0, 0, 0, 0, 3, 3, 3, 0, 0, 0, 0, 5, 0, 0, 5, 0, 0, 0, 0, 0, 0, 0, 5, 0, 0, 0, 5, 5, -5, 0, 5, 0, 0, 5, 5, 5, 5, 5, 5, 0, 0, 0, 0, 0, 5, 5, 0, 0, 0, 0], 'Albus Dumbledore': [0, 0, 0, 0, 0, 0, 0, 1, 0, 0, -3, 0, 0, 0, 0, 0, 0, 0, 0, 0, 0, 0, 0, 0, 0, 0, 0, 0, 0, 0, 3, 0, 0, -3, 0, -5, 0, 0, 0, 0, 0, 0, 5, 0, 0, 0, 0, 0, 0, 0, 0, 0, 0, 0, 0], 'Alexandra': [0, 0, 0, 0, 0, 0, 0, 0, 0, 0, 3, 0, 0, 0, 0, 0, 0, 0, 0, 0, 0, 0, 0, 0, 0, 0, 0, 0, 0, 0, 0, 3, 0, -5, 0, 0, 0, 0, 0, 0, 0, 3, 0, 0, 0, 0, 0, 0, 0, 0, 0, 0, 0, 0, 0], 'NaRwHaLs': [5, 0, 0, 0, 0, 0, 0, 0, 0, 0, 0, 5, 0, 0, 0, 0, 0, 5, 0, 0, 0, 0, 0, 0, 0, 0, 0, 5, 0, 0, 0, 3, 0, -5, 0, 0, 5, 0, 5, 0, 0, 0, -3, 3, 0, 0, 0, 0, 0, 5, 5, 0, 0, 0, 0], 'J-Rok': [5, 0, 0, 0, 0, 0, 0, 0, 0, 0, 0, 0, 0, 0, 0, 0, 0, 0, 0, 0, 0, 0, 0, 0, 0, 0, 0, 0, 0, 0, 0, 0, 0, -3, 0, -5, 0, 0, 0, 0, 0, 0, -5, 0, 0, 0, 1, 0, 0, 0, 0, 0, 0, 0, 0], 'snoosh': [0, 0, 0, 0, 0, 0, 0, 0, 0, 0, 0, 0, 0, 0, 0, 0, 0, 0, 1, 0, 0, 0, 0, 5, 0, 0, 0, 0, 0, 0, 0, 5, 0, 1, 0, 0, 0, 0, 3, 5, 0, -3, 5, 3, 0, 0, -5, 0, 0, 5, 5, 0, 0, 0, 0], 'Huxil': [0, 0, 0, 0, 0, 0, 0, 0, 0, 0, 0, 0, 0, 0, 0, 0, 0, 0, 0, 0, 0, 0, 0, 0, 0, 0, 0, 0, 0, 0, 0, 1, 3, 0, 0, 0, 0, 0, 0, 0, 0, 0, 0, 0, 0, 0, 0, 0, 0, 0, 3, 0, 1, 0, 0], 'hidan': [0, 0, 0, 0, 0, 0, 0, 0, 0, 0, 0, 0, 3, 0, 0, 0, 0, 0, 0, 0, 0, 0, 0, 0, 0, 0, 0, 5, 5, 0, 0, 3, 0, 5, 0, 0, 0, 0, 5, 0, 0, 0, 5, 5, 5, 0, 0, 0, 0, 5, 5, 0, 0, 0, 0], 'Leah': [0, 0, 0, 0, 0, 0, 0, 0, 0, 0, 0, 0, 0, 0, 0, 0, 0, 0, 0, 0, 0, 0, 0, 0, 0, 0, 0, 3, 0, 0, 0, 0, 0, 0, 0, 0, 0, 0, 0, 0, 0, 0, 0, 0, 1, 0, 0, 0, 0, 0, 0, 0, 0, 0, 0], 'Boxxy': [0, 0, 0, 0, 0, 0, 0, 0, 0, 0, 0, 0, 0, 0, 0, 0, 0, 0, 0, 0, 0, 0, 0, 0, 0, 0, 0, 0, 5, 0, 5, 0, 0, 5, 0, 0, 0, 0, 0, 5, 0, 0, 0, 0, 0, 0, 0, 0, 0, 0, 0, 0, 0, 0, 0], 'Rosanna': [0, 0, 0, 0, 0, 0, 0, 0, 0, 5, 5, 3, 0, 0, -3, 0, 0, 0, 1, 0, 0, 0, 0, 0, 0, 0, 0, 1, 0, 0, 1, 5, 0, 1, 0, 5, 0, 0, 0, 0, 0, 0, 5, 5, 0, 0, 0, 0, 0, 0, -3, 0, 0, 0, 0], 'Claire': [5, 3, 0, 0, 0, 0, 0, 5, 0, 3, 1, 0, 0, 0, 1, 0, 1, 0, 3, 0, 0, 0, 0, -3, 0, 5, 0, 0, 0, 0, 5, 5, 0, 1, 0, -5, 5, 0, 3, 3, 0, 5, 5, 5, 0, 0, 0, 0, 0, 5, 5, 0, 1, 0, 1], 'David': [0, 0, 0, 0, 0, 0, 0, 0, 0, 0, 0, 0, 0, 0, 0, 0, -5, 0, 0, 0, 0, 0, 0, 0, 0, 0, 0, 0, 0, 0, 0, 0, 0, 0, 0, 0, 0, 0, 1, 0, 0, 5, 1, 0, 0, 0, 0, 0, 0, 0, 0, 0, 0, 0, 5], 'Zachary': [0, 0, 0, 0, 0, 0, 0, 0, 0, 0, 0, 0, 0, 0, 0, 0, 1, 0, 0, 0, 0, 0, 0, 0, 0, 0, 0, 5, 0, 0, 0, 0, 0, 0, 0, 0, 0, 0, 3, 0, 0, 1, 0, 5, 5, 0, 0, 0, 0, 0, 5, 0, 0, 0, 0], 'ParseClaws': [5, 5, 3, 0, 0, 0, 0, 0, 0, -5, 0, 3, 0, 0, 3, 0, 0, 0, 3, 0, 0, 0, 0, 5, 0, 5, 0, 1, 1, 0, 3, 1, 0, 0, 0, -5, 0, 5, 0, 0, 0, 0, 3, 3, 0, 0, 3, 0, 0, 0, 0, 0, 0, 0, -3], 'Tiffany': [3, 0, 0, 1, 0, 0, 0, -3, 0, 5, -3, 0, 0, 0, 3, 0, 3, 0, 1, 3, 0, 0, 0, 0, 0, 0, 0, -5, 1, 0, 5, 5, 0, 0, 0, -5, 0, 0, 1, 3, 5, 3, 5, 5, 0, 0, -3, 0, 0, 5, 5, 3, 5, 0, 3], 'Sidney': [0, 0, 0, 0, 0, 0, 0, 0, 0, 0, 0, 0, 0, 0, 1, 0, 3, 0, 3, 0, 0, 0, 0, 1, 0, 0, 0, 5, 5, 0, 0, 3, 0, 3, 0, 0, 0, 0, 5, 5, 0, 0, 5, 0, 3, 0, 3, 0, 0, 5, 5, 0, 0, 0, 0], 'Tony': [-5, -5, -5, -5, -5, -5, -5, 1, 1, -5, -5, 1, 1, 3, 5, -5, 1, 1, 5, 1, -5, -5, -5, 1, 1, -5, 1, -5, 1, 1, 3, 0, 0, 0, 0, 0, 3, 0, 0, 0, 3, 0, 0, -3, 0, -5, -5, -5, 0, 5, 5, 1, 1, 1, 1], 'Mark': [5, 3, 0, 0, 0, 0, 0, 0, 0, 3, 0, 5, 0, 0, 3, 0, 0, 0, 1, 0, 0, 0, 0, 3, 0, 0, 0, 3, 3, 0, 5, 1, 0, 3, 0, 0, 0, 0, 3, 0, 0, 0, 0, 0, 0, 0, 0, 0, 0, 0, 0, 0, 0, 0, 5], 'NuNu': [0, 0, 0, 0, 0, 0, 0, 1, 0, 0, 0, 0, 0, 0, 0, 0, 3, 0, 3, 0, 0, 0, 0, 0, 0, 0, 0, 0, 0, 0, 3, 0, 0, 1, 0, 5, 0, 0, 0, 0, 0, 1, 3, 3, 0, 0, 0, 0, 0, 0, 0, 0, 0, 0, 0], 'Hamza ALi': [0, 0, 0, 0, 0, 0, 0, -5, 0, 5, 1, 0, 0, 0, 1, 0, 5, 0, -3, 0, 3, 0, 0, 0, 0, 0, 0, -5, 0, 0, -3, 5, 0, 5, 0, 3, 0, 0, 1, 0, 3, 1, 3, 5, 0, 0, 0, 0, 0, 1, -5, 0, 0, 0, 0], 'dencellia': [0, 0, 0, 0, 0, 0, 0, 0, 0, 0, 0, 0, 0, 0, 0, 0, 0, 0, -3, 0, 0, 0, 0, 0, 0, 0, 0, 1, 3, 0, 1, 0, 0, 0, 0, 3, 0, 0, 0, 0, 0, 0, 5, 0, 3, 0, 0, 0, 0, -3, 3, 0, 0, 0, 0], 'Nathan': [0, 0, 0, 0, 0, 0, 0, -5, 0, 5, 1, 0, 0, 0, 1, 0, 5, 0, -3, 0, 3, 0, 0, 0, 0, 0, 0, -5, 0, 0, -3, 5, 0, 5, 0, 3, 0, 0, 1, 0, 3, 1, 3, 5, 0, 0, 0, 0, 0, 1, -5, 0, 0, 0, 0], 'James': [3, 1, 0, 0, 0, 0, 3, -3, 0, 0, 1, 0, 0, 0, 0, 0, 0, 0, 1, 1, 0, 0, 0, -5, 0, 0, 0, -5, -5, 0, -3, 5, 0, 3, 0, -5, 0, 0, 0, 5, 0, 5, 1, 3, 0, 0, 0, 0, 0, -5, 5, 0, -3, 0, 5], 'KeeLed': [0, 0, 0, 5, 0, 0, 0, 5, 0, 5, 5, 0, 0, 0, 0, 0, 5, -3, -3, 0, 0, 0, 0, 0, 0, 0, 0, 0, 0, 0, 1, 0, 0, 0, 0, 5, 0, 0, 5, 0, 5, 5, 5, 5, 0, 0, 0, 0, 0, 3, 1, 0, 0, 0, 0], 'Megan': [5, 5, 0, 0, 0, 0, 0, 0, 0, 3, 0, 5, 0, 0, 1, 0, 5, 0, 1, 5, 0, 0, 0, 0, 0, 1, 0, 5, 0, 0, 3, 5, 5, 0, 0, 5, 0, 0, 3, 0, 0, 3, 5, 5, 0, 0, 0, 0, 0, 5, 5, 0, 5, 0, 0]})\n",
    "finally: sys.stdout = sys._jupyter_stdout \n",
    "print(\"Test passed\")"
   ]
  },
  {
   "cell_type": "code",
   "execution_count": null,
   "metadata": {
    "deletable": false,
    "editable": false,
    "nbgrader": {
     "cell_type": "code",
     "checksum": "7eb1a1aac33335e8af3e8b417c6ed46c",
     "grade": true,
     "grade_id": "task2-autograder2",
     "locked": true,
     "points": 1,
     "schema_version": 3,
     "solution": false,
     "task": false
    }
   },
   "outputs": [],
   "source": [
    "# Test your code -- check that it works with a file other than ratings.txt\n",
    "sys._jupyter_stdout = sys.stdout\n",
    "sys.stdout = open(os.devnull, 'w')    \n",
    "with open('mtf.txt', 'w') as fileObj: fileObj.write(\"a, 0 0 1 2\\nb, 1 1 5 5\")\n",
    "try: assert_equal(readRatings(\"mtf.txt\"), {'a': [0, 0, 1, 2], 'b': [1, 1, 5, 5]})\n",
    "finally: sys.stdout = sys._jupyter_stdout \n",
    "if os.path.exists(\"mtf.txt\"): os.remove(\"mtf.txt\")\n",
    "print(\"Test passed\")"
   ]
  },
  {
   "cell_type": "markdown",
   "metadata": {
    "deletable": false,
    "editable": false,
    "nbgrader": {
     "cell_type": "markdown",
     "checksum": "e88976e02a8b908ec6503b9ab38f558a",
     "grade": false,
     "grade_id": "task2t-instructions",
     "locked": true,
     "schema_version": 3,
     "solution": false,
     "task": false
    }
   },
   "source": [
    "### Test `readRatings()`\n",
    "\n",
    "Write a small function that tests your code by calling `readRatings()` and then printing out each key, value pair in the returned dictionary. \n",
    "\n",
    "Check that this is consistent with ratings.txt and your expectations. Once you are satisfied it does, you can comment out the line calling `testReadRatings()` so that this code doesn't run every time you need to re-run the entire file. You do not need to worry about making the output pretty (i.e., you can just let Python handle printing the list). Your output should look like this for the first and last two lines: \n",
    "\n",
    "    Ben --> [5, 0, 0, 0, 0, 0, 0, 1, 0, 1, -3, 5, 0, 0, 0, 5, 5, 0, 0, 0, 0, 5, 0, 0, 0, 0, 0, 0, 0, 0, 1, 3, 0, 1, 0, -5, 0, 0, 5, 5, 0, 5, 5, 5, 0, 5, 5, 0, 0, 0, 5, 5, 5, 5, -5]\n",
    "    Moose --> [5, 5, 0, 0, 0, 0, 3, 0, 0, 1, 0, 5, 3, 0, 5, 0, 3, 3, 5, 0, 0, 0, 0, 0, 5, 0, 0, 0, 0, 0, 3, 5, 0, 0, 0, 0, 0, 5, -3, 0, 0, 0, 5, 0, 0, 0, 0, 0, 0, 5, 5, 0, 3, 0, 0]\n",
    "    \n",
    "    ...\n",
    "    \n",
    "    KeeLed --> [0, 0, 0, 5, 0, 0, 0, 5, 0, 5, 5, 0, 0, 0, 0, 0, 5, -3, -3, 0, 0, 0, 0, 0, 0, 0, 0, 0, 0, 0, 1, 0, 0, 0, 0, 5, 0, 0, 5, 0, 5, 5, 5, 5, 0, 0, 0, 0, 0, 3, 1, 0, 0, 0, 0]\n",
    "    Megan --> [5, 5, 0, 0, 0, 0, 0, 0, 0, 3, 0, 5, 0, 0, 1, 0, 5, 0, 1, 5, 0, 0, 0, 0, 0, 1, 0, 5, 0, 0, 3, 5, 5, 0, 0, 5, 0, 0, 3, 0, 0, 3, 5, 5, 0, 0, 0, 0, 0, 5, 5, 0, 5, 0, 0]\n"
   ]
  },
  {
   "cell_type": "code",
   "execution_count": null,
   "metadata": {
    "deletable": false,
    "nbgrader": {
     "cell_type": "code",
     "checksum": "da4ff5bc90f38fdc1fa4861b7dfe598b",
     "grade": false,
     "grade_id": "task2t-answer",
     "locked": false,
     "schema_version": 3,
     "solution": true,
     "task": false
    }
   },
   "outputs": [],
   "source": [
    "def testReadRatings():\n",
    "    # YOUR CODE HERE\n",
    "        \n",
    "testReadRatings() #Comment out this line when you are done testing "
   ]
  },
  {
   "cell_type": "code",
   "execution_count": null,
   "metadata": {
    "deletable": false,
    "editable": false,
    "nbgrader": {
     "cell_type": "code",
     "checksum": "4ae170d75863711318add04410cda35b",
     "grade": true,
     "grade_id": "task2t-autograder",
     "locked": true,
     "points": 1,
     "schema_version": 3,
     "solution": false,
     "task": false
    }
   },
   "outputs": [],
   "source": [
    "# Test your code\n",
    "sys._jupyter_stdout = sys.stdout\n",
    "sys.stdout = open(os.devnull, 'w')    \n",
    "old = readRatings\n",
    "del readRatings\n",
    "try: testReadRatings()\n",
    "except NameError: pass\n",
    "else: \n",
    "    raise AssertionError(\"testReadRatings() does not call readRatings()\")\n",
    "finally:\n",
    "    sys.stdout = sys._jupyter_stdout\n",
    "    readRatings = old\n",
    "    del old\n",
    "print(\"Test passed\")"
   ]
  },
  {
   "cell_type": "markdown",
   "metadata": {
    "deletable": false,
    "editable": false,
    "nbgrader": {
     "cell_type": "markdown",
     "checksum": "c36d45b6776214010f36515c166238a3",
     "grade": false,
     "grade_id": "task3-instructions",
     "locked": true,
     "schema_version": 3,
     "solution": false,
     "task": false
    }
   },
   "source": [
    "## Task 3: Write `writeRatings()`\n",
    "\n",
    "Now, you will write a function `writeRatings()` that takes two input parameters, a customer database and a filename, and writes out the contents of the database to the inputted filename.  \n",
    "\n",
    "### Pseudocode\n",
    "\n",
    "* Open the file specified by the input parameter `filename` for writing \n",
    "* Loop over each key, value pair in the customer database \n",
    "    * Convert the ratings list to a string (use a loop and an accumulator to build up this string!)\n",
    "    * Combine the ratings list string with the customer ID, matching the format in ratings.txt\n",
    "    * Write the line to the file"
   ]
  },
  {
   "cell_type": "code",
   "execution_count": null,
   "metadata": {
    "deletable": false,
    "nbgrader": {
     "cell_type": "code",
     "checksum": "66c1e7b3ecbf98c9f4e05d04b034b02a",
     "grade": false,
     "grade_id": "task3-answer",
     "locked": false,
     "schema_version": 3,
     "solution": true,
     "task": false
    }
   },
   "outputs": [],
   "source": [
    "def writeRatings(customerDB, filename):\n",
    "    # YOUR CODE HERE\n"
   ]
  },
  {
   "cell_type": "code",
   "execution_count": null,
   "metadata": {
    "deletable": false,
    "editable": false,
    "nbgrader": {
     "cell_type": "code",
     "checksum": "1ca4119a9f31e88c3d0bd1e003d73ca4",
     "grade": true,
     "grade_id": "task3-autograder",
     "locked": true,
     "points": 3,
     "schema_version": 3,
     "solution": false,
     "task": false
    }
   },
   "outputs": [],
   "source": [
    "# Test your code\n",
    "# Note this test might fail frivolously due to small differences in whitespace\n",
    "# My solution has a white space at the end of each line and a blank line at the end of each file\n",
    "# (which is the easiest way to handle writing out the file)\n",
    "sys._jupyter_stdout = sys.stdout\n",
    "sys.stdout = open(os.devnull, 'w')    \n",
    "trdb = {'x': [0, 0, 1, 2], 'y': [1, 1, 5, 5]}\n",
    "writeRatings(trdb, 'trdb.txt')\n",
    "with open('trdb.txt') as fo: output = fo.read()\n",
    "try: assert_equal(output, \"x, 0 0 1 2 \\ny, 1 1 5 5 \\n\")\n",
    "finally: sys.stdout = sys._jupyter_stdout \n",
    "if os.path.exists(\"trdb.txt\"): os.remove(\"trdb.txt\")\n",
    "print(\"Test passed\")"
   ]
  },
  {
   "cell_type": "markdown",
   "metadata": {
    "deletable": false,
    "editable": false,
    "nbgrader": {
     "cell_type": "markdown",
     "checksum": "ab8a8fa0642599c8cd24150eb91ed873",
     "grade": false,
     "grade_id": "task3t-instructions",
     "locked": true,
     "schema_version": 3,
     "solution": false,
     "task": false
    }
   },
   "source": [
    "### Test `writeRatings()`\n",
    "\n",
    "Write a small function that tests your code by calling `readRatings()` and then `writeRatings()`. Your code should read in the real <tt>ratings.txt</tt> file but write out to a dummy file (e.g., <tt>testratings.txt</tt>). This way you can check that your code is able to recreate the same file without overwriting the original ratings file (which would be a very normal thing to do at least once before figuring out the solution!) \n",
    "\n",
    "Check that the contents of output file match <tt>ratings.txt</tt>. Once you are satisfied it does, you can comment out the line calling `testWriteRatings()` so that this code doesn't run every time you need to re-run the entire file. "
   ]
  },
  {
   "cell_type": "code",
   "execution_count": null,
   "metadata": {
    "deletable": false,
    "nbgrader": {
     "cell_type": "code",
     "checksum": "d283111f4aea5feb837657470939b1de",
     "grade": false,
     "grade_id": "task3t-answer",
     "locked": false,
     "schema_version": 3,
     "solution": true,
     "task": false
    }
   },
   "outputs": [],
   "source": [
    "def testWriteRatings():\n",
    "    # YOUR CODE HERE\n",
    "\n",
    "testWriteRatings() #Comment out this line when you are done testing "
   ]
  },
  {
   "cell_type": "code",
   "execution_count": null,
   "metadata": {
    "deletable": false,
    "editable": false,
    "nbgrader": {
     "cell_type": "code",
     "checksum": "dcb738895d3bc6485253b72dbfa49a25",
     "grade": true,
     "grade_id": "task3t-autograder",
     "locked": true,
     "points": 1,
     "schema_version": 3,
     "solution": false,
     "task": false
    }
   },
   "outputs": [],
   "source": [
    "# Test your code\n",
    "sys._jupyter_stdout = sys.stdout\n",
    "sys.stdout = open(os.devnull, 'w')    \n",
    "old = writeRatings\n",
    "del writeRatings\n",
    "try: testWriteRatings()\n",
    "except NameError: pass\n",
    "else: \n",
    "    raise AssertionError(\"testWriteRatings() does not call writeRatings()\")\n",
    "finally:\n",
    "    sys.stdout = sys._jupyter_stdout\n",
    "    writeRatings = old\n",
    "    del old\n",
    "print(\"Test passed\")"
   ]
  },
  {
   "cell_type": "markdown",
   "metadata": {
    "deletable": false,
    "editable": false,
    "nbgrader": {
     "cell_type": "markdown",
     "checksum": "6f79b8fcac0de28f024d800dc53d8d98",
     "grade": false,
     "grade_id": "task4-instructions",
     "locked": true,
     "schema_version": 3,
     "solution": false,
     "task": false
    }
   },
   "source": [
    "***\n",
    "\n",
    "# Part 2: A More Sophisticate Recommendation\n",
    "\n",
    "In this part, you will write a function `sophisticatedRecommendation()` that makes a recommendation to the customer by finding the customer most like themselves, and recommending the book that person rates most highly (and that the customer hasn't already read). \n",
    "\n",
    "Again, to help break the task down into more manageable chunks, you will first build a couple of helper functions:\n",
    "* `computeSimScores()` returns a list of the similarity score between the customer and all other customers in the customer database. \n",
    "* `sortUserRatings()` returns a list of tuples containing a book rating, that book's ISBN, and that book's index, sorted from highest to lowest book rating.\n",
    "\n",
    "## Task 4: Write `computeSimScores()`\n",
    "\n",
    "`computeSimScores()` should take two input parameters, a target customer and a customerDB, and return a list of all the similarity scores between the customer and all other customers (not including themself). This list should contain tuples of consisting of a similarity score between the target customer and another customer and the \"other\" customer with which it was computed. \n",
    "\n",
    "\n",
    "### Pseudocode\n",
    "\n",
    "* Initialize an empty list to store the resulting similarity scores\n",
    "* Get the target customer's list of ratings\n",
    "* For each customer in the database, get their username and list of ratings\n",
    "    * If the username doesn't match the target customer\n",
    "        * initialize their similarity score to 0\n",
    "        * For each book (looping over the valid book indices)\n",
    "            * Multiply the target customer's book rating with the \"other\" customer's book rating and this to their similarity score\n",
    "        * Append a tuple of their similarity score and the other customer's username to the similarity score list\n",
    "* Sort and reverse the list of similarity scores so that the entries are ordered from best to worst match\n"
   ]
  },
  {
   "cell_type": "code",
   "execution_count": null,
   "metadata": {
    "deletable": false,
    "nbgrader": {
     "cell_type": "code",
     "checksum": "fc3dd2fe2583d4b2cd62f7c9d846d417",
     "grade": false,
     "grade_id": "task4-answer",
     "locked": false,
     "schema_version": 3,
     "solution": true,
     "task": false
    }
   },
   "outputs": [],
   "source": [
    "def computeSimScores(targetCustomer, customerDB):\n",
    "    targetRatingsList = customerDB[targetCustomer]\n",
    "    simScores = []\n",
    "    \n",
    "    # YOUR CODE HERE\n",
    "    simScores.sort()\n",
    "    simScores.reverse()\n",
    "    return simScores"
   ]
  },
  {
   "cell_type": "code",
   "execution_count": null,
   "metadata": {
    "deletable": false,
    "editable": false,
    "nbgrader": {
     "cell_type": "code",
     "checksum": "4b9009e10e98d3f4af276a79f4570e5e",
     "grade": true,
     "grade_id": "task4-autograder1",
     "locked": true,
     "points": 2,
     "schema_version": 3,
     "solution": false,
     "task": false
    }
   },
   "outputs": [],
   "source": [
    "# Test your code -- Test on data from ratings.txt\n",
    "sys._jupyter_stdout = sys.stdout\n",
    "sys.stdout = open(os.devnull, 'w')\n",
    "customers = readRatings(\"ratings.txt\")\n",
    "try: assert_equal(computeSimScores(\"Mike Williams\", customers), [(181, 'Cust6'), (178, 'Cust8'), (160, 'ROFLOL'), (156, 'Megan'), (154, 'Ben'), (142, 'Francois'), (142, 'Cust1'), (137, 'KeeLed'), (131, 'Mike'), (127, 'Claire'), (124, 'Shannon'), (123, 'Nathan'), (123, 'Hamza ALi'), (122, 'andrew'), (118, 'joe'), (118, 'Rosanna'), (106, 'matt c'), (106, 'Tiffany'), (104, 'McLean'), (102, 'Ocelot'), (101, 'Sidney'), (96, 'Douglas Anderson'), (96, 'Brian'), (94, 'Mark'), (92, 'Moose'), (85, 'Cust7'), (83, 'hidan'), (76, 'ender'), (74, 'Strongbad'), (73, 'James'), (70, 'NuNu'), (67, 'clipper'), (65, 'Priscilla'), (62, 'snoosh'), (62, 'Iren'), (62, 'Cust5'), (60, 'Sanity'), (56, 'Apollo'), (55, 'Boxxy'), (54, 'Jim C'), (52, 'Cust10'), (51, 'sage32'), (49, 'Anna-Carol'), (48, 'Rudy A'), (47, 'SubRia'), (47, 'I. Ned'), (46, 'Cust9'), (45, 'ma'), (45, 'Zax'), (45, 'Dude'), (42, 'ParseClaws'), (36, 'Don Wang'), (36, 'Cedric Jones'), (35, 'Ella'), (35, 'Cust3'), (33, 'Pablo Sanchez'), (27, 'NaRwHaLs'), (25, 'Leslie'), (25, 'Cust2'), (24, 'YJAM'), (23, 'Zachary'), (22, 'Reuven'), (20, 'David'), (19, 'Hideo'), (14, 'dencellia'), (14, 'crom'), (11, 'Harry Potter'), (10, 'Jaluka'), (7, 'Martin'), (3, 'Brix'), (1, 'Sam'), (0, 'Leah'), (-1, 'Cust4'), (-2, 'Albus Dumbledore'), (-5, 'Rudy Ann'), (-7, 'Jeremy'), (-7, 'Alexandra'), (-8, 'Huxil'), (-9, 'McLovin'), (-12, 'Joshua'), (-22, 'chrispeh'), (-25, 'Scream'), (-40, 'J-Rok'), (-68, 'Tony')])\n",
    "finally: sys.stdout = sys._jupyter_stdout \n",
    "print(\"Test passed\")"
   ]
  },
  {
   "cell_type": "code",
   "execution_count": null,
   "metadata": {
    "deletable": false,
    "editable": false,
    "nbgrader": {
     "cell_type": "code",
     "checksum": "5db6ab9402cdb7836d0145df93ffbf10",
     "grade": true,
     "grade_id": "task4-autograder2",
     "locked": true,
     "points": 1,
     "schema_version": 3,
     "solution": false,
     "task": false
    }
   },
   "outputs": [],
   "source": [
    "# Test your code -- test on other data\n",
    "sys._jupyter_stdout = sys.stdout\n",
    "sys.stdout = open(os.devnull, 'w')\n",
    "customers = readRatings(\"ratings.txt\")\n",
    "try: assert_equal(computeSimScores('x', {'x': [0, 0, 1, 2], 'y': [1, 1, 5, 5]}), [(15, 'y')])\n",
    "finally: sys.stdout = sys._jupyter_stdout \n",
    "print(\"Test passed\")"
   ]
  },
  {
   "cell_type": "markdown",
   "metadata": {
    "deletable": false,
    "editable": false,
    "nbgrader": {
     "cell_type": "markdown",
     "checksum": "49c70a328595d63eda50d5b47914f65d",
     "grade": false,
     "grade_id": "tast4t-instructions",
     "locked": true,
     "schema_version": 3,
     "solution": false,
     "task": false
    }
   },
   "source": [
    "### Test `computeSimScores()`\n",
    "\n",
    "Write a small function that tests your code. You will need to call `readRatings()` to initialize the databases. Call `computeSimScore()` on a couple of existing customers to test the result. You may want to calculate the similarity scores for one customer in excel or create a small test customer database to support your testing. \n",
    "\n",
    "When you are convinced your code works, comment out the line calling your test function. "
   ]
  },
  {
   "cell_type": "code",
   "execution_count": null,
   "metadata": {
    "deletable": false,
    "nbgrader": {
     "cell_type": "code",
     "checksum": "ba66c43122bf54018660ea047b0260da",
     "grade": false,
     "grade_id": "task4t-answer",
     "locked": false,
     "schema_version": 3,
     "solution": true,
     "task": false
    }
   },
   "outputs": [],
   "source": [
    "#Solution\n",
    "def testComputeSimScores():\n",
    "    # YOUR CODE HERE\n",
    "\n",
    "testComputeSimScores() #Comment out this line when you are done testing "
   ]
  },
  {
   "cell_type": "code",
   "execution_count": null,
   "metadata": {
    "deletable": false,
    "editable": false,
    "nbgrader": {
     "cell_type": "code",
     "checksum": "a552f907e4b1bca7ed1fe25947d82cdd",
     "grade": true,
     "grade_id": "task4t-autograder",
     "locked": true,
     "points": 1,
     "schema_version": 3,
     "solution": false,
     "task": false
    }
   },
   "outputs": [],
   "source": [
    "# Test your code\n",
    "sys._jupyter_stdout = sys.stdout\n",
    "sys.stdout = open(os.devnull, 'w')    \n",
    "old = computeSimScores\n",
    "del computeSimScores\n",
    "try: testComputeSimScores()\n",
    "except NameError: pass\n",
    "else: \n",
    "    raise AssertionError(\"testComputeSimScores() does not call computeSimScores()\")\n",
    "finally:\n",
    "    sys.stdout = sys._jupyter_stdout\n",
    "    computeSimScores = old\n",
    "    del old\n",
    "print(\"Test passed\")"
   ]
  },
  {
   "cell_type": "markdown",
   "metadata": {
    "deletable": false,
    "editable": false,
    "nbgrader": {
     "cell_type": "markdown",
     "checksum": "56fe9499d8c629090c868d422b9f9b26",
     "grade": false,
     "grade_id": "task5-instructions",
     "locked": true,
     "schema_version": 3,
     "solution": false,
     "task": false
    }
   },
   "source": [
    "\n",
    "## Task 5: Write `sortUserRatings()`\n",
    "\n",
    "The customer database stores for each customer a list of their book ratings, order by book index. This has worked well throughout the assignment, but in this stage using the order of the items in the list to represent the book's index is a bit complicated. We *could* loop through the list to find the highest score, see if the customer has read that book, and if yes, loop again to find the second highest score, etc. But that is very inefficient, and still quite complicated to write. \n",
    "\n",
    "What we would really like to do is take the list of ratings from the\n",
    "target customer’s best match, and then sort their book ratings so that we can easily access the top ratings in order, until we find one that the target customer hasn't read. \n",
    "\n",
    "But if we sort the list of ratings, we lose the ability to infer which rating goes with which book. So we will need to make a new data structure that keeps track of the rating and data indicating which book it belongs to. To further support our future needs we might want to keep track of both the ISBN number (which can access the book from the book database) and the index (which can access the book from a list of ratings).  \n",
    "\n",
    "Putting that all together: `sortUserRatings()` should take two input parameters, a list of book ratings, and a bookDB. It will produce a list of tuples, in which the first element is a rating, the second is the book's ISBN, and the third, is the book's index. \n",
    "\n",
    "\n",
    "### Pseudocode\n",
    "\n",
    "* Initialize an empty list to store the resulting list of customer ratings tuples\n",
    "* Loop over each book in the book database\n",
    "    * Get the index of the book from the book's data\n",
    "    * Use that to access the rating from the rating list\n",
    "    * Append a tuple containing the rating, the book's ISBN number, and the book's index to the list of customer ratings tuples\n",
    "* Sort the list of customer ratings tuples\n",
    "* Reverse the sort of that list\n",
    "* Return the list\n"
   ]
  },
  {
   "cell_type": "code",
   "execution_count": null,
   "metadata": {
    "deletable": false,
    "nbgrader": {
     "cell_type": "code",
     "checksum": "c56c8709eeedaf72a5d805fa06442abe",
     "grade": false,
     "grade_id": "task5-answer",
     "locked": false,
     "schema_version": 3,
     "solution": true,
     "task": false
    }
   },
   "outputs": [],
   "source": [
    "def sortUserRatings(ratings, bookDB):\n",
    "    # YOUR CODE HERE\n",
    "\n"
   ]
  },
  {
   "cell_type": "code",
   "execution_count": null,
   "metadata": {
    "deletable": false,
    "editable": false,
    "nbgrader": {
     "cell_type": "code",
     "checksum": "ed3dc2176c957224a49729423860067f",
     "grade": true,
     "grade_id": "task5-autograder1",
     "locked": true,
     "points": 2,
     "schema_version": 3,
     "solution": false,
     "task": false
    }
   },
   "outputs": [],
   "source": [
    "# Test your code -- test on data from ratings.txt, books.txt\n",
    "sys._jupyter_stdout = sys.stdout\n",
    "sys.stdout = open(os.devnull, 'w')\n",
    "customers = readRatings(\"ratings.txt\")\n",
    "books = readBooks(\"books.txt\")\n",
    "try: assert_equal(sortUserRatings(customers[\"Mike Williams\"], books), [(5, '8495618818', 9), (5, '3641082505', 11), (5, '0937247065', 2), (5, '0590353403', 42), (5, '0553382570', 6), (5, '0547416113', 33), (5, '0545229936', 13), (5, '0375890369', 38), (5, '0375846724', 41), (5, '0330338730', 39), (3, '8434878607', 43), (3, '1905654391', 35), (3, '0606338039', 16), (3, '0517693119', 0), (3, '0399501487', 18), (1, '0871299208', 30), (1, '0261102958', 49), (1, '0064404990', 31), (0, '8809744454', 3), (0, '1894448200', 21), (0, '1863330550', 20), (0, '1603034013', 52), (0, '1595141712', 5), (0, '1591164418', 28), (0, '1569319006', 27), (0, '1443102067', 46), (0, '1416549178', 40), (0, '1411469380', 37), (0, '1156393361', 44), (0, '0929631048', 4), (0, '0871295377', 25), (0, '0743273565', 14), (0, '0731814909', 8), (0, '0618439102', 26), (0, '0547538648', 53), (0, '0441007465', 17), (0, '0440240167', 34), (0, '0425190374', 22), (0, '0425116840', 12), (0, '0394747232', 47), (0, '0375890291', 7), (0, '0345439740', 19), (0, '0312331754', 32), (0, '0230738034', 29), (0, '0230037518', 10), (0, '0143181538', 51), (0, '0143176763', 24), (0, '0143038095', 48), (0, '0142411736', 15), (0, '0142300942', 45), (0, '0141038462', 54), (0, '0061975133', 36), (0, '0060850523', 23), (0, '0025002600', 1), (-3, '0345339683', 50)])\n",
    "finally: sys.stdout = sys._jupyter_stdout \n",
    "print(\"Test passed\")"
   ]
  },
  {
   "cell_type": "code",
   "execution_count": null,
   "metadata": {
    "deletable": false,
    "editable": false,
    "nbgrader": {
     "cell_type": "code",
     "checksum": "a207decbaacbbc70e5b0a3fd16a6f15c",
     "grade": true,
     "grade_id": "task5-autograder2",
     "locked": true,
     "points": 1,
     "schema_version": 3,
     "solution": false,
     "task": false
    }
   },
   "outputs": [],
   "source": [
    "# Test your code -- test on data not from ratings.txt, books.txt\n",
    "sys._jupyter_stdout = sys.stdout\n",
    "sys.stdout = open(os.devnull, 'w')\n",
    "customers = {'x': [0, 0, 1, 2], 'y': [1, 1, 5, 5]}\n",
    "books = {'01': ('1900', 'abc', 'def', 0), '02': ('1901', 'ghi', 'klm', 1), '03': ('1902', 'nop', 'qrs', 2), '04': ('1903', 'tuv', 'wxy', 3)}\n",
    "try: assert_equal(sortUserRatings(customers[\"x\"], books), [(2, '04', 3), (1, '03', 2), (0, '02', 1), (0, '01', 0)])\n",
    "finally: sys.stdout = sys._jupyter_stdout \n",
    "print(\"Test passed\")"
   ]
  },
  {
   "cell_type": "markdown",
   "metadata": {
    "deletable": false,
    "editable": false,
    "nbgrader": {
     "cell_type": "markdown",
     "checksum": "fe6ed39145d12d9bd7fc260329094bbd",
     "grade": false,
     "grade_id": "task5t-instructions",
     "locked": true,
     "schema_version": 3,
     "solution": false,
     "task": false
    }
   },
   "source": [
    "### Test `sortUserRatings()`\n",
    "\n",
    "Write a small function that tests your code. You will need to call `readRatings()` and `readBooks()` to initialize the databases. Call `sortUserRatings()` on a couple of existing customers to test the result. You should be able to tell if your code is working by spot testing a few of the results (e.g., find the customer's top rating in ratings.txt and check that this is correct). (Don't worry about how ties should be ordered).\n",
    "\n",
    "When you are convinced your code works, comment out the line calling your test function. "
   ]
  },
  {
   "cell_type": "code",
   "execution_count": null,
   "metadata": {
    "deletable": false,
    "nbgrader": {
     "cell_type": "code",
     "checksum": "86a2de016fcc68a54263c2e6017a8022",
     "grade": false,
     "grade_id": "task5t-answer",
     "locked": false,
     "schema_version": 3,
     "solution": true,
     "task": false
    }
   },
   "outputs": [],
   "source": [
    "def testSortUserRatings():\n",
    "    # YOUR CODE HERE\n",
    "\n",
    "testSortUserRatings() #Comment out this line when you are done testing "
   ]
  },
  {
   "cell_type": "code",
   "execution_count": null,
   "metadata": {
    "deletable": false,
    "editable": false,
    "nbgrader": {
     "cell_type": "code",
     "checksum": "1341c4d90d56d67653ea9a194de02bcd",
     "grade": true,
     "grade_id": "task5t-autograder",
     "locked": true,
     "points": 1,
     "schema_version": 3,
     "solution": false,
     "task": false
    }
   },
   "outputs": [],
   "source": [
    "# Test your code\n",
    "sys._jupyter_stdout = sys.stdout\n",
    "sys.stdout = open(os.devnull, 'w')    \n",
    "old = sortUserRatings\n",
    "del sortUserRatings\n",
    "try: testSortUserRatings()\n",
    "except NameError: pass\n",
    "else: \n",
    "    raise AssertionError(\"testSortUserRatings() does not call sortUserRatings()\")\n",
    "finally:\n",
    "    sys.stdout = sys._jupyter_stdout\n",
    "    sortUserRatings = old\n",
    "    del old\n",
    "print(\"Test passed\")"
   ]
  },
  {
   "cell_type": "markdown",
   "metadata": {
    "deletable": false,
    "editable": false,
    "nbgrader": {
     "cell_type": "markdown",
     "checksum": "77309e029edf804f8c3c2585a8cc06ab",
     "grade": false,
     "grade_id": "task6-instructions",
     "locked": true,
     "schema_version": 3,
     "solution": false,
     "task": false
    }
   },
   "source": [
    "\n",
    "## Task 6: Write `sophisticatedRecommendation()`\n",
    "\n",
    "`sophisticatedRecommendation()` should take three input parameters, a target customer, a customerDB, and a bookDB, and recommend a book (that the customer hasn't already read) by finding the most similar other customer, and finding the highest rated book in their list of ratings that the customer hasn't already read. \n",
    "\n",
    "\n",
    "### Pseudocode\n",
    "\n",
    "* Call `computeSimScores()` to get a list of similarity scores between the target customer and all other customers\n",
    "* The best match will be the first one in the list of similarity scores\n",
    "* Get a list of possible recommendations by calling sortUserRatings, passing the match's rating list and the book DB\n",
    "* Loop over each element of the list of possible recommendations\n",
    "    * Use the possible recommendation's index to look up the customer's rating of that book. If it's zero:\n",
    "        * We have a match! Print out a message (see below) and return\n",
    "* If you get here, it means you've run out of recommendation possibilities. Apologize to the customer and then return<sup>*</sup>            \n",
    "\n",
    "Note that for the test cell to work your code must print out output exactly as: \n",
    "\n",
    "    You might like: A Great and Terrible Beauty by Libba Bray rated 5 by Cust6\n",
    "    \n",
    "That is `\"You might like: \" + <title> + \" by \" + <author> + \" rated \" + <rating> + \" by \" + <best match>`. Other formatting is acceptable and will be accepted during grading.\n",
    "\n",
    "<sup>*</sup> *While it would be better to move on to the second best match if the customer has read all the possible recommendations from their best match, it is not necessary for the assignment (and if you really wanted to address this limitation, tackling the even more sophisticated algorithm described on MyCourses would be the better way to go)* \n"
   ]
  },
  {
   "cell_type": "code",
   "execution_count": null,
   "metadata": {
    "deletable": false,
    "nbgrader": {
     "cell_type": "code",
     "checksum": "4c88b4b5641b5db037b8c42852178dfd",
     "grade": false,
     "grade_id": "task6-answer",
     "locked": false,
     "schema_version": 3,
     "solution": true,
     "task": false
    }
   },
   "outputs": [],
   "source": [
    "def sophisticatedRecommendation(targetCustomer, customerDB, bookDB):\n",
    "    # YOUR CODE HERE\n",
    "            "
   ]
  },
  {
   "cell_type": "code",
   "execution_count": null,
   "metadata": {
    "deletable": false,
    "editable": false,
    "nbgrader": {
     "cell_type": "code",
     "checksum": "a73492e1f90d7edee2635c97371b65ca",
     "grade": true,
     "grade_id": "task6-autograder",
     "locked": true,
     "points": 3,
     "schema_version": 3,
     "solution": false,
     "task": false
    }
   },
   "outputs": [],
   "source": [
    "# Test your code\n",
    "customers = readRatings(\"ratings.txt\")\n",
    "books = readBooks(\"books.txt\")\n",
    "with mock.patch('sys.stdout', new=io.StringIO()) as fake_stdout:\n",
    "    sophisticatedRecommendation(\"Mike Williams\", customers, books)    \n",
    "assert_equal(fake_stdout.getvalue(), 'You might like: A Great and Terrible Beauty by Libba Bray rated 5 by Cust6\\n')\n",
    "print(\"Test Passed\")"
   ]
  },
  {
   "cell_type": "markdown",
   "metadata": {
    "deletable": false,
    "editable": false,
    "nbgrader": {
     "cell_type": "markdown",
     "checksum": "bd1993af831598bcf5a7275e3f60782d",
     "grade": false,
     "grade_id": "task6t-instructions",
     "locked": true,
     "schema_version": 3,
     "solution": false,
     "task": false
    }
   },
   "source": [
    "### Test `sophisticatedRecommendation()`\n",
    "\n",
    "Write a small function that tests your code. You will need to call `readRatings()` and `readBooks()` to initalize the databases. Call `sophisticatedRecommendation()` on a couple of existing customers to test the result. Have at least one test case where the perons has read the most highly rated book.\n",
    "\n",
    "When you are convinced your code works, you can comment out the line calling your test function. "
   ]
  },
  {
   "cell_type": "code",
   "execution_count": null,
   "metadata": {
    "deletable": false,
    "nbgrader": {
     "cell_type": "code",
     "checksum": "124dcfef62a2e919ab9804efebdaae17",
     "grade": false,
     "grade_id": "task6t-answer",
     "locked": false,
     "schema_version": 3,
     "solution": true,
     "task": false
    }
   },
   "outputs": [],
   "source": [
    "def testSophisticatedRecommendation():  \n",
    "    # YOUR CODE HERE\n",
    "\n",
    "testSophisticatedRecommendation() #Comment out this line when you are done testing "
   ]
  },
  {
   "cell_type": "code",
   "execution_count": null,
   "metadata": {
    "deletable": false,
    "editable": false,
    "nbgrader": {
     "cell_type": "code",
     "checksum": "ac99723fde89c4c82fc4e5f1c366a2b9",
     "grade": true,
     "grade_id": "task6t-autograder",
     "locked": true,
     "points": 1,
     "schema_version": 3,
     "solution": false,
     "task": false
    }
   },
   "outputs": [],
   "source": [
    "# Test your code\n",
    "sys._jupyter_stdout = sys.stdout\n",
    "sys.stdout = open(os.devnull, 'w')    \n",
    "old = sophisticatedRecommendation\n",
    "del sophisticatedRecommendation\n",
    "try: testSophisticatedRecommendation()\n",
    "except NameError: pass\n",
    "else: \n",
    "    raise AssertionError(\"testSophisticatedRecommendation() does not call sophisticatedRecommendation()\")\n",
    "finally:\n",
    "    sys.stdout = sys._jupyter_stdout\n",
    "    sophisticatedRecommendation = old\n",
    "    del old\n",
    "print(\"Test passed\")"
   ]
  },
  {
   "cell_type": "markdown",
   "metadata": {
    "deletable": false,
    "editable": false,
    "nbgrader": {
     "cell_type": "markdown",
     "checksum": "21518d1e42793da1ca645a73ff3aa0a3",
     "grade": false,
     "grade_id": "task7-instructions1",
     "locked": true,
     "schema_version": 3,
     "solution": false,
     "task": false
    }
   },
   "source": [
    "***\n",
    "# Part 3: Putting it all Together\n",
    "\n",
    "We've now built all the individual pieces, but we don't have a way of running them together. In this part you will write a function `runBookRecommender()` that provides a text based interface for calling the different functions. This function will be very similar to `runBookRecommender_basic()` which you wrote for the last assignment, only now, instead of using print statements to describe what would be done, the code should call the functions you've implemented, e.g., opening accounts, rating books, making recommendations, etc. \n",
    "\n",
    "## Import Functions From Part I\n",
    "\n",
    "First, you will need to include definitions to the key functionality written in the last assignment. For this you will need to either ensure that solA2.py has been downloaded from MyCourses and copied into the same directory as this notebook file, or you will need to replace the line `import solA2` below with copies of the following functions definitions from your last assignment: \n",
    "\n",
    "    openAccount()\n",
    "    login()\n",
    "    queryRating()\n",
    "    rateBooks()\n",
    "    getOneBooksRatings()\n",
    "    getAverageRatings()\n",
    "    topThree()\n",
    "    basicRecommendation()\n",
    "    \n",
    "    "
   ]
  },
  {
   "cell_type": "code",
   "execution_count": null,
   "metadata": {
    "deletable": false,
    "nbgrader": {
     "cell_type": "code",
     "checksum": "d942b0769eec7ec0967b75b838b022d1",
     "grade": true,
     "grade_id": "cell-46c1ba19645a695e",
     "locked": false,
     "points": 0,
     "schema_version": 3,
     "solution": true,
     "task": false
    }
   },
   "outputs": [],
   "source": [
    "# Download the file solA2.py from MyCourses and place in the same directory \n",
    "# as this notebook, or replace the import line below with your function definitions for\n",
    "# openAccount(), login(), queryRating(), rateBooks(), getOneBooksRatings(), \n",
    "# getAverageRatings(), topThree(), and basicRecommendation() from Part 1. \n",
    "\n",
    "from solA2 import *\n",
    "\n",
    "# YOUR CODE HERE"
   ]
  },
  {
   "cell_type": "markdown",
   "metadata": {
    "deletable": false,
    "editable": false,
    "nbgrader": {
     "cell_type": "markdown",
     "checksum": "bcfe42fb3815cfbd7073083cc5b87dba",
     "grade": false,
     "grade_id": "task7-instructions2",
     "locked": true,
     "schema_version": 3,
     "solution": false,
     "task": false
    }
   },
   "source": [
    "## Task 7: Write `runBookRecommender()`\n",
    "\n",
    "`runBookRecommender()` takes no input parameters. It should provide a menu that allows the customer to pick the functionality that they want from the choices. When finished with it, present the menu again until the customer chooses to exit. A good strategy for this task would be to copy over your implementation to `runBookRecommender_basic()` and then replace each of the print statements with a call to the appropriate function. \n",
    "\n",
    "You will also need to make calls to `readBooks()` and `readRatings()` at the very start to initialize your book and customer databases and you will need to make sure the last thing you do before exiting is call `writeBooks()` to write out any changes (*NB do not try to call writeBooks after each change to the database, this will be too complicated. It is enough to do this after the user indicates that they are ready to quit*). \n",
    "\n",
    "Remember that many functions depend on a particular user being 'logged in'. So you will also need to keep track of who (if anyone is logged in) and check (before calling certain functions) that someone is logged in. [A sample run should look something like this.](https://drive.google.com/file/d/17ufCObMgT1OZGLlGBYtZCgKpPZsi9V0J/view?usp=sharing)\n",
    "\n",
    "\n",
    "    \n",
    "### Pseudocode\n",
    "* Create a variable to track the active (i.e., logged in) customer\n",
    "* Load external data (e.g., `books.txt` and `ratings.txt`)\n",
    "* Looping until the customer 'quits': \n",
    "    * Provide the customer with a list of options: \n",
    "    * Depending on their selection, call the desired function. Note: \n",
    "        * That for many functions you first check that someone is logged in\n",
    "        * When the customer quits the customerDB should first be written out to file"
   ]
  },
  {
   "cell_type": "code",
   "execution_count": null,
   "metadata": {
    "deletable": false,
    "nbgrader": {
     "cell_type": "code",
     "checksum": "fe86dbfdd6ca8ab30c2a3363091a02df",
     "grade": true,
     "grade_id": "task7-answer",
     "locked": false,
     "points": 3,
     "schema_version": 3,
     "solution": true,
     "task": false
    }
   },
   "outputs": [],
   "source": [
    "def runBookRecommender():\n",
    "    # YOUR CODE HERE\n",
    "    \n",
    "runBookRecommender()"
   ]
  },
  {
   "cell_type": "markdown",
   "metadata": {
    "deletable": false,
    "editable": false,
    "nbgrader": {
     "cell_type": "markdown",
     "checksum": "4c9507e9dea50bece0c47266fc540852",
     "grade": false,
     "grade_id": "task7t-instructions",
     "locked": true,
     "schema_version": 3,
     "solution": false,
     "task": false
    }
   },
   "source": [
    "### Test `runBookRecommender()`\n",
    "\n",
    "Run the above ceel to call your `runBookRecommender()` function and test that everything is working together properly. Cut and paste the output from your run to demonstrate how you have tested each branch of your overall system. Note that if this part isn't running, then you should include a paragraph or two describing how you would test your code for partial credit. *(Note: After pasting your output below, select all lines and hit `tab` to format your answer as monospaced plain text)*"
   ]
  },
  {
   "cell_type": "markdown",
   "metadata": {
    "deletable": false,
    "nbgrader": {
     "cell_type": "markdown",
     "checksum": "c3170c748b588e62810d252309338c80",
     "grade": true,
     "grade_id": "task7t-answer",
     "locked": false,
     "points": 1,
     "schema_version": 3,
     "solution": true,
     "task": false
    }
   },
   "source": [
    "YOUR ANSWER HERE"
   ]
  }
 ],
 "metadata": {
  "kernelspec": {
   "display_name": "Python 3 (ipykernel)",
   "language": "python",
   "name": "python3"
  },
  "language_info": {
   "codemirror_mode": {
    "name": "ipython",
    "version": 3
   },
   "file_extension": ".py",
   "mimetype": "text/x-python",
   "name": "python",
   "nbconvert_exporter": "python",
   "pygments_lexer": "ipython3",
   "version": "3.9.7"
  }
 },
 "nbformat": 4,
 "nbformat_minor": 4
}
