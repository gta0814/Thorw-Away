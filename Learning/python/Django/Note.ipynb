{
 "cells": [
  {
   "attachments": {},
   "cell_type": "markdown",
   "metadata": {},
   "source": [
    "conda info --envs\n",
    "\n",
    "conda activate myDjangoEnv\n",
    "\n",
    "conda deactivate\n",
    "\n",
    "django-admin startproject first_project\n",
    "\n",
    "django-admin startapp first_app\n",
    "\n",
    "python manage.py runserver\n",
    "\n",
    "python manage.py startapp first_app\n",
    "\n",
    "python manage.py migrate\n",
    "\n",
    "python manage.py makemigrations first_app\n",
    "\n",
    "python manage.py shell \n",
    "\n",
    "python manage.py createsuperuser\n",
    "\n",
    "pip freeze > requirements.txt"
   ]
  },
  {
   "attachments": {},
   "cell_type": "markdown",
   "metadata": {},
   "source": [
    "1. models.py 定义了数据模型，即数据库表结构。\n",
    "\n",
    "2. views.py 定义了处理请求的函数，负责对数据进行处理，并响应给用户。\n",
    "\n",
    "3. urls.py 定义了URL映射，将特定的URL映射到视图上。\n",
    "\n",
    "4. forms.py 定义了表单，用于处理用户输入。\n",
    "\n",
    "5. register.html 是模板，用于渲染表单，并将表单提交到后台。\n",
    "\n",
    "当用户请求注册页面时，Django按照这个顺序运行，先查找是否有对应的URL，如果有，则对应到特定的视图，视图接收到请求后，创建一个表单对象，渲染表单，并将表单和处理结果返回给用户。"
   ]
  },
  {
   "cell_type": "code",
   "execution_count": null,
   "metadata": {},
   "outputs": [],
   "source": [
    "print(__file__)\n",
    "print(os.path.dirname(__file__))"
   ]
  },
  {
   "cell_type": "code",
   "execution_count": null,
   "metadata": {},
   "outputs": [],
   "source": [
    "#remove [4:]name\n",
    "import os\n",
    "\n",
    "folder = r\"G:\\\\照片\\\\轼缘\"\n",
    "delStr = 'IMG_'\n",
    "for filename in os.listdir(folder):\n",
    "    if filename.startswith(delStr):\n",
    "        new_filename = filename.replace(delStr, '')\n",
    "        os.rename(os.path.join(folder, filename), os.path.join(folder, new_filename))"
   ]
  },
  {
   "cell_type": "code",
   "execution_count": null,
   "metadata": {},
   "outputs": [],
   "source": [
    "#delete orgin copy\n",
    "import os\n",
    "\n",
    "folderKeep = r\"G:\\照片\\轼缘\"\n",
    "folderDel = r\"F:\\P20\"\n",
    "\n",
    "for filename in os.listdir(folderDel):\n",
    "    if filename in os.listdir(folderKeep):\n",
    "        os.remove(os.path.join(folderDel, filename))"
   ]
  },
  {
   "cell_type": "code",
   "execution_count": 5,
   "metadata": {},
   "outputs": [
    {
     "name": "stdout",
     "output_type": "stream",
     "text": [
      "2019-07-21 18-01-47\n"
     ]
    }
   ],
   "source": [
    "#rename by time\n",
    "import win32file\n",
    "import win32con\n",
    "\n",
    "filename = r\"G:\\照片\\轼缘\\其它转mate10\\1537404357432.mp4\"\n",
    "\n",
    "handle = win32file.CreateFile(filename, win32con.GENERIC_READ, win32con.FILE_SHARE_READ, None, win32con.OPEN_EXISTING, 0, None)\n",
    "result = win32file.GetFileTime(handle)\n",
    "media_created_time = result[2]\n",
    "media_created_time_string = media_created_time.strftime(\"%Y-%m-%d %H-%M-%S\")\n",
    "print(media_created_time_string)"
   ]
  },
  {
   "attachments": {},
   "cell_type": "markdown",
   "metadata": {},
   "source": [
    "pip install django-debug-toolbar"
   ]
  }
 ],
 "metadata": {
  "kernelspec": {
   "display_name": "Python 3.9.13 64-bit (microsoft store)",
   "language": "python",
   "name": "python3"
  },
  "language_info": {
   "codemirror_mode": {
    "name": "ipython",
    "version": 3
   },
   "file_extension": ".py",
   "mimetype": "text/x-python",
   "name": "python",
   "nbconvert_exporter": "python",
   "pygments_lexer": "ipython3",
   "version": "3.9.13"
  },
  "vscode": {
   "interpreter": {
    "hash": "e76dda5f73d61ee65b2218344d3f84e7d8702023315b24e96adc919dc6cf3f05"
   }
  }
 },
 "nbformat": 4,
 "nbformat_minor": 1
}
